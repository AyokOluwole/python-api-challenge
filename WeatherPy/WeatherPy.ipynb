{
 "cells": [
  {
   "cell_type": "markdown",
   "metadata": {},
   "source": [
    "# WeatherPy\n",
    "\n",
    "---\n",
    "\n",
    "## Starter Code to Generate Random Geographic Coordinates and a List of Cities"
   ]
  },
  {
   "cell_type": "code",
   "execution_count": null,
   "metadata": {
    "scrolled": true
   },
   "outputs": [],
   "source": [
    "# Dependencies and Setup\n",
    "import matplotlib.pyplot as plt\n",
    "import pandas as pd\n",
    "import numpy as np\n",
    "import requests\n",
    "import time\n",
    "from scipy.stats import linregress\n",
    "\n",
    "# Impor the OpenWeatherMap API key\n",
    "from api_keys import weather_api_key\n",
    "\n",
    "# Import citipy to determine the cities based on latitude and longitude\n",
    "from citipy import citipy"
   ]
  },
  {
   "cell_type": "code",
   "execution_count": 48,
   "metadata": {},
   "outputs": [],
   "source": [
    "output_data_file = \"../output_data/cities.csv\""
   ]
  },
  {
   "cell_type": "markdown",
   "metadata": {},
   "source": [
    "### Generate the Cities List by Using the `citipy` Library"
   ]
  },
  {
   "cell_type": "code",
   "execution_count": 49,
   "metadata": {},
   "outputs": [
    {
     "name": "stdout",
     "output_type": "stream",
     "text": [
      "Number of cities in the list: 600\n"
     ]
    }
   ],
   "source": [
    "# Empty list for holding the latitude and longitude combinations\n",
    "lat_lngs = []\n",
    "\n",
    "# Empty list for holding the cities names\n",
    "cities = []\n",
    "\n",
    "# Range of latitudes and longitudes\n",
    "lat_range = (-90, 90)\n",
    "lng_range = (-180, 180)\n",
    "\n",
    "# Create a set of random lat and lng combinations\n",
    "lats = np.random.uniform(lat_range[0], lat_range[1], size=1500)\n",
    "lngs = np.random.uniform(lng_range[0], lng_range[1], size=1500)\n",
    "lat_lngs = zip(lats, lngs)\n",
    "\n",
    "# Identify nearest city for each lat, lng combination\n",
    "for lat_lng in lat_lngs:\n",
    "    city = citipy.nearest_city(lat_lng[0], lat_lng[1]).city_name\n",
    "    \n",
    "    # If the city is unique, then add it to a our cities list\n",
    "    if city not in cities:\n",
    "        cities.append(city)\n",
    "\n",
    "# Print the city count to confirm sufficient count\n",
    "print(f\"Number of cities in the list: {len(cities)}\")"
   ]
  },
  {
   "cell_type": "markdown",
   "metadata": {},
   "source": [
    "---"
   ]
  },
  {
   "cell_type": "markdown",
   "metadata": {},
   "source": [
    "## Requirement 1: Create Plots to Showcase the Relationship Between Weather Variables and Latitude\n",
    "\n",
    "### Use the OpenWeatherMap API to retrieve weather data from the cities list generated in the started code"
   ]
  },
  {
   "cell_type": "code",
   "execution_count": 50,
   "metadata": {},
   "outputs": [
    {
     "name": "stdout",
     "output_type": "stream",
     "text": [
      "Beginning Data Retrieval     \n",
      "-----------------------------\n",
      "Processing Record 1 of Set 1 | clovis\n",
      "Processing Record 2 of Set 1 | mount gambier\n",
      "Processing Record 3 of Set 1 | severo-kurilsk\n",
      "Processing Record 4 of Set 1 | lompoc\n",
      "Processing Record 5 of Set 1 | belushya guba\n",
      "City not found. Skipping...\n",
      "Processing Record 6 of Set 1 | nome\n",
      "Processing Record 7 of Set 1 | codo\n",
      "Processing Record 8 of Set 1 | coxim\n",
      "Processing Record 9 of Set 1 | grand river south east\n",
      "City not found. Skipping...\n",
      "Processing Record 10 of Set 1 | tasiilaq\n",
      "Processing Record 11 of Set 1 | bluff\n",
      "Processing Record 12 of Set 1 | vaini\n",
      "Processing Record 13 of Set 1 | lannion\n",
      "Processing Record 14 of Set 1 | praya\n",
      "Processing Record 15 of Set 1 | illoqqortoormiut\n",
      "City not found. Skipping...\n",
      "Processing Record 16 of Set 1 | kieta\n",
      "Processing Record 17 of Set 1 | yerofey pavlovich\n",
      "Processing Record 18 of Set 1 | sorong\n",
      "Processing Record 19 of Set 1 | georgetown\n",
      "Processing Record 20 of Set 1 | dabat\n",
      "Processing Record 21 of Set 1 | castro\n",
      "Processing Record 22 of Set 1 | rikitea\n",
      "Processing Record 23 of Set 1 | bokspits\n",
      "City not found. Skipping...\n",
      "Processing Record 24 of Set 1 | pleshanovo\n",
      "Processing Record 25 of Set 1 | cayenne\n",
      "Processing Record 26 of Set 1 | havoysund\n",
      "Processing Record 27 of Set 1 | tucumcari\n",
      "Processing Record 28 of Set 1 | punta arenas\n",
      "Processing Record 29 of Set 1 | bredasdorp\n",
      "Processing Record 30 of Set 1 | hermanus\n",
      "Processing Record 31 of Set 1 | bodden town\n",
      "Processing Record 32 of Set 1 | thompson\n",
      "Processing Record 33 of Set 1 | ushuaia\n",
      "Processing Record 34 of Set 1 | bethel\n",
      "Processing Record 35 of Set 1 | bengkulu\n",
      "Processing Record 36 of Set 1 | cidreira\n",
      "Processing Record 37 of Set 1 | ribeira grande\n",
      "Processing Record 38 of Set 1 | salisbury\n",
      "Processing Record 39 of Set 1 | carnarvon\n",
      "Processing Record 40 of Set 1 | kailua\n",
      "Processing Record 41 of Set 1 | leningradskiy\n",
      "Processing Record 42 of Set 1 | husavik\n",
      "Processing Record 43 of Set 1 | hasaki\n",
      "Processing Record 44 of Set 1 | saint-gaudens\n",
      "Processing Record 45 of Set 1 | pedasi\n",
      "Processing Record 46 of Set 1 | port lincoln\n",
      "Processing Record 47 of Set 1 | bandarbeyla\n",
      "Processing Record 48 of Set 1 | abu dhabi\n",
      "Processing Record 49 of Set 1 | bandar-e lengeh\n",
      "Processing Record 50 of Set 1 | victoria\n",
      "Processing Record 0 of Set 2 | ha noi\n",
      "Processing Record 1 of Set 2 | ahipara\n",
      "Processing Record 2 of Set 2 | shemursha\n",
      "Processing Record 3 of Set 2 | barentsburg\n",
      "City not found. Skipping...\n",
      "Processing Record 4 of Set 2 | loa janan\n",
      "Processing Record 5 of Set 2 | atuona\n",
      "Processing Record 6 of Set 2 | mataura\n",
      "Processing Record 7 of Set 2 | lolua\n",
      "City not found. Skipping...\n",
      "Processing Record 8 of Set 2 | esperance\n",
      "Processing Record 9 of Set 2 | nan\n",
      "Processing Record 10 of Set 2 | kapaa\n",
      "Processing Record 11 of Set 2 | somerset east\n",
      "Processing Record 12 of Set 2 | albany\n",
      "Processing Record 13 of Set 2 | barrow\n",
      "Processing Record 14 of Set 2 | padang\n",
      "Processing Record 15 of Set 2 | sisimiut\n",
      "Processing Record 16 of Set 2 | khatanga\n",
      "Processing Record 17 of Set 2 | mezen\n",
      "Processing Record 18 of Set 2 | ballina\n",
      "Processing Record 19 of Set 2 | okha\n",
      "Processing Record 20 of Set 2 | nikolskoye\n",
      "Processing Record 21 of Set 2 | bayeux\n",
      "Processing Record 22 of Set 2 | hilo\n",
      "Processing Record 23 of Set 2 | codrington\n",
      "Processing Record 24 of Set 2 | port alfred\n",
      "Processing Record 25 of Set 2 | vao\n",
      "Processing Record 26 of Set 2 | faanui\n",
      "Processing Record 27 of Set 2 | hamilton\n",
      "Processing Record 28 of Set 2 | zalantun\n",
      "Processing Record 29 of Set 2 | busselton\n",
      "Processing Record 30 of Set 2 | airai\n",
      "Processing Record 31 of Set 2 | laguna\n",
      "Processing Record 32 of Set 2 | lebu\n",
      "Processing Record 33 of Set 2 | hobart\n",
      "Processing Record 34 of Set 2 | saint-philippe\n",
      "Processing Record 35 of Set 2 | luanda\n",
      "Processing Record 36 of Set 2 | adrar\n",
      "Processing Record 37 of Set 2 | richland\n",
      "Processing Record 38 of Set 2 | namibe\n",
      "Processing Record 39 of Set 2 | mackenzie\n",
      "Processing Record 40 of Set 2 | pesaro\n",
      "Processing Record 41 of Set 2 | evensk\n",
      "Processing Record 42 of Set 2 | honiara\n",
      "Processing Record 43 of Set 2 | honningsvag\n",
      "Processing Record 44 of Set 2 | east london\n",
      "Processing Record 45 of Set 2 | ravar\n",
      "Processing Record 46 of Set 2 | nueva loja\n",
      "Processing Record 47 of Set 2 | kazachinskoye\n",
      "Processing Record 48 of Set 2 | ketchikan\n",
      "Processing Record 49 of Set 2 | chuy\n",
      "Processing Record 0 of Set 3 | raduzhnyy\n",
      "Processing Record 1 of Set 3 | kununurra\n",
      "Processing Record 2 of Set 3 | flinders\n",
      "Processing Record 3 of Set 3 | ancud\n",
      "Processing Record 4 of Set 3 | pontianak\n",
      "Processing Record 5 of Set 3 | norman wells\n",
      "Processing Record 6 of Set 3 | pustoshka\n",
      "Processing Record 7 of Set 3 | nuuk\n",
      "Processing Record 8 of Set 3 | krasnokamensk\n",
      "Processing Record 9 of Set 3 | tsihombe\n",
      "City not found. Skipping...\n",
      "Processing Record 10 of Set 3 | jumla\n",
      "Processing Record 11 of Set 3 | vardo\n",
      "Processing Record 12 of Set 3 | qaanaaq\n",
      "Processing Record 13 of Set 3 | mier\n",
      "Processing Record 14 of Set 3 | sao filipe\n",
      "Processing Record 15 of Set 3 | tumannyy\n",
      "City not found. Skipping...\n",
      "Processing Record 16 of Set 3 | lamballe\n",
      "Processing Record 17 of Set 3 | roma\n",
      "Processing Record 18 of Set 3 | grimshaw\n",
      "Processing Record 19 of Set 3 | sangar\n",
      "Processing Record 20 of Set 3 | bur gabo\n",
      "City not found. Skipping...\n",
      "Processing Record 21 of Set 3 | sioux lookout\n",
      "Processing Record 22 of Set 3 | ucluelet\n",
      "Processing Record 23 of Set 3 | dikson\n",
      "Processing Record 24 of Set 3 | avarua\n",
      "Processing Record 25 of Set 3 | channel-port aux basques\n",
      "Processing Record 26 of Set 3 | yellowknife\n",
      "Processing Record 27 of Set 3 | boromlya\n",
      "Processing Record 28 of Set 3 | nemuro\n",
      "Processing Record 29 of Set 3 | bac lieu\n",
      "Processing Record 30 of Set 3 | rungata\n",
      "City not found. Skipping...\n",
      "Processing Record 31 of Set 3 | belmonte\n",
      "Processing Record 32 of Set 3 | new norfolk\n",
      "Processing Record 33 of Set 3 | sao joao da barra\n",
      "Processing Record 34 of Set 3 | russell\n",
      "Processing Record 35 of Set 3 | bambanglipuro\n",
      "Processing Record 36 of Set 3 | cape town\n",
      "Processing Record 37 of Set 3 | maltahohe\n",
      "Processing Record 38 of Set 3 | bambous virieux\n",
      "Processing Record 39 of Set 3 | fortuna\n",
      "Processing Record 40 of Set 3 | sayyan\n",
      "Processing Record 41 of Set 3 | nizhniy tsasuchey\n",
      "Processing Record 42 of Set 3 | mar del plata\n",
      "Processing Record 43 of Set 3 | samarai\n",
      "Processing Record 44 of Set 3 | san quintin\n",
      "Processing Record 45 of Set 3 | tuatapere\n",
      "Processing Record 46 of Set 3 | taolanaro\n",
      "City not found. Skipping...\n",
      "Processing Record 47 of Set 3 | sorland\n",
      "Processing Record 48 of Set 3 | warqla\n",
      "City not found. Skipping...\n",
      "Processing Record 49 of Set 3 | port elizabeth\n",
      "Processing Record 0 of Set 4 | brae\n",
      "Processing Record 1 of Set 4 | hithadhoo\n",
      "Processing Record 2 of Set 4 | kruisfontein\n",
      "Processing Record 3 of Set 4 | okandja\n",
      "City not found. Skipping...\n",
      "Processing Record 4 of Set 4 | mahebourg\n",
      "Processing Record 5 of Set 4 | baruun-urt\n",
      "Processing Record 6 of Set 4 | provideniya\n",
      "Processing Record 7 of Set 4 | tiksi\n",
      "Processing Record 8 of Set 4 | jamestown\n",
      "Processing Record 9 of Set 4 | saskylakh\n",
      "Processing Record 10 of Set 4 | seesen\n",
      "Processing Record 11 of Set 4 | praia\n",
      "Processing Record 12 of Set 4 | oga\n",
      "Processing Record 13 of Set 4 | gizo\n",
      "Processing Record 14 of Set 4 | alice springs\n",
      "Processing Record 15 of Set 4 | los llanos de aridane\n",
      "Processing Record 16 of Set 4 | tuktoyaktuk\n",
      "Processing Record 17 of Set 4 | yulara\n",
      "Processing Record 18 of Set 4 | jackson\n",
      "Processing Record 19 of Set 4 | oriximina\n",
      "Processing Record 20 of Set 4 | san cristobal\n",
      "Processing Record 21 of Set 4 | pangnirtung\n",
      "Processing Record 22 of Set 4 | quatre cocos\n",
      "Processing Record 23 of Set 4 | skovorodino\n",
      "Processing Record 24 of Set 4 | romitan\n",
      "Processing Record 25 of Set 4 | nyurba\n",
      "Processing Record 26 of Set 4 | rizarion\n",
      "Processing Record 27 of Set 4 | ugoofaaru\n",
      "Processing Record 28 of Set 4 | dzhankoy\n",
      "Processing Record 29 of Set 4 | toora-khem\n",
      "Processing Record 30 of Set 4 | luderitz\n",
      "Processing Record 31 of Set 4 | upernavik\n",
      "Processing Record 32 of Set 4 | geraldton\n",
      "Processing Record 33 of Set 4 | beloha\n",
      "Processing Record 34 of Set 4 | kulhudhuffushi\n",
      "Processing Record 35 of Set 4 | la primavera\n",
      "Processing Record 36 of Set 4 | esil\n",
      "Processing Record 37 of Set 4 | namatanai\n",
      "Processing Record 38 of Set 4 | le port\n"
     ]
    },
    {
     "name": "stdout",
     "output_type": "stream",
     "text": [
      "Processing Record 39 of Set 4 | beringovskiy\n",
      "Processing Record 40 of Set 4 | high level\n",
      "Processing Record 41 of Set 4 | george\n",
      "Processing Record 42 of Set 4 | pogar\n",
      "Processing Record 43 of Set 4 | camacha\n",
      "Processing Record 44 of Set 4 | haines junction\n",
      "Processing Record 45 of Set 4 | fort nelson\n",
      "Processing Record 46 of Set 4 | metsavan\n",
      "Processing Record 47 of Set 4 | butaritari\n",
      "Processing Record 48 of Set 4 | irbil\n",
      "Processing Record 49 of Set 4 | faya\n",
      "Processing Record 0 of Set 5 | smithers\n",
      "Processing Record 1 of Set 5 | saint george\n",
      "Processing Record 2 of Set 5 | gat\n",
      "Processing Record 3 of Set 5 | merauke\n",
      "Processing Record 4 of Set 5 | kuche\n",
      "City not found. Skipping...\n",
      "Processing Record 5 of Set 5 | oranjemund\n",
      "Processing Record 6 of Set 5 | pevek\n",
      "Processing Record 7 of Set 5 | villazon\n",
      "Processing Record 8 of Set 5 | colac\n",
      "Processing Record 9 of Set 5 | port-gentil\n",
      "Processing Record 10 of Set 5 | guerrero negro\n",
      "Processing Record 11 of Set 5 | damietta\n",
      "Processing Record 12 of Set 5 | kaitangata\n",
      "Processing Record 13 of Set 5 | touros\n",
      "Processing Record 14 of Set 5 | lom sak\n",
      "Processing Record 15 of Set 5 | yakima\n",
      "Processing Record 16 of Set 5 | viransehir\n",
      "Processing Record 17 of Set 5 | dauphin\n",
      "Processing Record 18 of Set 5 | waipawa\n",
      "Processing Record 19 of Set 5 | goderich\n",
      "Processing Record 20 of Set 5 | rawson\n",
      "Processing Record 21 of Set 5 | wakkanai\n",
      "Processing Record 22 of Set 5 | marsh harbour\n",
      "Processing Record 23 of Set 5 | deputatskiy\n",
      "Processing Record 24 of Set 5 | ilulissat\n",
      "Processing Record 25 of Set 5 | moreira sales\n",
      "Processing Record 26 of Set 5 | souillac\n",
      "Processing Record 27 of Set 5 | deh rawud\n",
      "City not found. Skipping...\n",
      "Processing Record 28 of Set 5 | skjervoy\n",
      "Processing Record 29 of Set 5 | coquimbo\n",
      "Processing Record 30 of Set 5 | hambantota\n",
      "Processing Record 31 of Set 5 | saint-pierre\n",
      "Processing Record 32 of Set 5 | isangel\n",
      "Processing Record 33 of Set 5 | tashla\n",
      "Processing Record 34 of Set 5 | seoul\n",
      "Processing Record 35 of Set 5 | puerto ayora\n",
      "Processing Record 36 of Set 5 | mys shmidta\n",
      "City not found. Skipping...\n",
      "Processing Record 37 of Set 5 | pochutla\n",
      "Processing Record 38 of Set 5 | sitka\n",
      "Processing Record 39 of Set 5 | ausa\n",
      "Processing Record 40 of Set 5 | maceio\n",
      "Processing Record 41 of Set 5 | dodge city\n",
      "Processing Record 42 of Set 5 | aldan\n",
      "Processing Record 43 of Set 5 | coihaique\n",
      "Processing Record 44 of Set 5 | mukhen\n",
      "Processing Record 45 of Set 5 | kuytun\n",
      "Processing Record 46 of Set 5 | svetlyy\n",
      "Processing Record 47 of Set 5 | staryy nadym\n",
      "Processing Record 48 of Set 5 | valley station\n",
      "Processing Record 49 of Set 5 | great bend\n",
      "Processing Record 0 of Set 6 | klerksdorp\n",
      "Processing Record 1 of Set 6 | mount isa\n",
      "Processing Record 2 of Set 6 | broken hill\n",
      "Processing Record 3 of Set 6 | viligili\n",
      "City not found. Skipping...\n",
      "Processing Record 4 of Set 6 | the valley\n",
      "Processing Record 5 of Set 6 | gigmoto\n",
      "Processing Record 6 of Set 6 | zhigansk\n",
      "Processing Record 7 of Set 6 | lagoa\n",
      "Processing Record 8 of Set 6 | umzimvubu\n",
      "City not found. Skipping...\n",
      "Processing Record 9 of Set 6 | ostrovnoy\n",
      "Processing Record 10 of Set 6 | ust-uda\n",
      "Processing Record 11 of Set 6 | sentyabrskiy\n",
      "City not found. Skipping...\n",
      "Processing Record 12 of Set 6 | sola\n",
      "Processing Record 13 of Set 6 | matara\n",
      "Processing Record 14 of Set 6 | kamaishi\n",
      "Processing Record 15 of Set 6 | muros\n",
      "Processing Record 16 of Set 6 | dingle\n",
      "Processing Record 17 of Set 6 | manzanillo\n",
      "Processing Record 18 of Set 6 | bud\n",
      "Processing Record 19 of Set 6 | nakhon thai\n",
      "Processing Record 20 of Set 6 | gorontalo\n",
      "Processing Record 21 of Set 6 | xingtai\n",
      "Processing Record 22 of Set 6 | obidos\n",
      "Processing Record 23 of Set 6 | vaitupu\n",
      "City not found. Skipping...\n",
      "Processing Record 24 of Set 6 | karamay\n",
      "City not found. Skipping...\n",
      "Processing Record 25 of Set 6 | lodwar\n",
      "Processing Record 26 of Set 6 | luwuk\n",
      "Processing Record 27 of Set 6 | yar-sale\n",
      "Processing Record 28 of Set 6 | uwayl\n",
      "City not found. Skipping...\n",
      "Processing Record 29 of Set 6 | lata\n",
      "Processing Record 30 of Set 6 | chokurdakh\n",
      "Processing Record 31 of Set 6 | berlevag\n",
      "Processing Record 32 of Set 6 | semey\n",
      "Processing Record 33 of Set 6 | port hardy\n",
      "Processing Record 34 of Set 6 | lalmohan\n",
      "Processing Record 35 of Set 6 | marcona\n",
      "City not found. Skipping...\n",
      "Processing Record 36 of Set 6 | mayo\n",
      "Processing Record 37 of Set 6 | clyde river\n",
      "Processing Record 38 of Set 6 | kadykchan\n",
      "City not found. Skipping...\n",
      "Processing Record 39 of Set 6 | tirumullaivasal\n",
      "Processing Record 40 of Set 6 | alotau\n",
      "City not found. Skipping...\n",
      "Processing Record 41 of Set 6 | svetlaya\n",
      "Processing Record 42 of Set 6 | kavaratti\n",
      "Processing Record 43 of Set 6 | pisco\n",
      "Processing Record 44 of Set 6 | nizhneyansk\n",
      "City not found. Skipping...\n",
      "Processing Record 45 of Set 6 | anadyr\n",
      "Processing Record 46 of Set 6 | attawapiskat\n",
      "City not found. Skipping...\n",
      "Processing Record 47 of Set 6 | birao\n",
      "Processing Record 48 of Set 6 | walvis bay\n",
      "Processing Record 49 of Set 6 | nanortalik\n",
      "Processing Record 0 of Set 7 | gerede\n",
      "Processing Record 1 of Set 7 | bulgan\n",
      "Processing Record 2 of Set 7 | joshimath\n",
      "Processing Record 3 of Set 7 | grand gaube\n",
      "Processing Record 4 of Set 7 | aljezur\n",
      "Processing Record 5 of Set 7 | gobabis\n",
      "Processing Record 6 of Set 7 | ankang\n",
      "Processing Record 7 of Set 7 | dongsheng\n",
      "Processing Record 8 of Set 7 | xinzhou\n",
      "Processing Record 9 of Set 7 | ilebo\n",
      "Processing Record 10 of Set 7 | san jose\n",
      "Processing Record 11 of Set 7 | bani\n",
      "Processing Record 12 of Set 7 | richards bay\n",
      "Processing Record 13 of Set 7 | caravelas\n",
      "Processing Record 14 of Set 7 | aswan\n",
      "Processing Record 15 of Set 7 | kiama\n",
      "Processing Record 16 of Set 7 | zhangye\n",
      "Processing Record 17 of Set 7 | bongandanga\n",
      "Processing Record 18 of Set 7 | kathu\n",
      "Processing Record 19 of Set 7 | ponoka\n",
      "Processing Record 20 of Set 7 | pocatello\n",
      "Processing Record 21 of Set 7 | angoram\n",
      "Processing Record 22 of Set 7 | kirakira\n",
      "Processing Record 23 of Set 7 | tiarei\n",
      "Processing Record 24 of Set 7 | cururupu\n",
      "Processing Record 25 of Set 7 | vernon\n",
      "Processing Record 26 of Set 7 | kurilsk\n",
      "Processing Record 27 of Set 7 | naryan-mar\n",
      "Processing Record 28 of Set 7 | krasnyy oktyabr\n",
      "Processing Record 29 of Set 7 | kodiak\n",
      "Processing Record 30 of Set 7 | fengrun\n",
      "Processing Record 31 of Set 7 | bam\n",
      "Processing Record 32 of Set 7 | arraial do cabo\n",
      "Processing Record 33 of Set 7 | langerwehe\n",
      "Processing Record 34 of Set 7 | emilio carranza\n",
      "Processing Record 35 of Set 7 | guane\n",
      "Processing Record 36 of Set 7 | amapa\n",
      "Processing Record 37 of Set 7 | knysna\n",
      "Processing Record 38 of Set 7 | midyat\n",
      "Processing Record 39 of Set 7 | san patricio\n",
      "Processing Record 40 of Set 7 | novovasylivka\n",
      "Processing Record 41 of Set 7 | vestmannaeyjar\n",
      "Processing Record 42 of Set 7 | neiafu\n",
      "Processing Record 43 of Set 7 | manaure\n",
      "Processing Record 44 of Set 7 | hutchinson\n",
      "Processing Record 45 of Set 7 | araouane\n",
      "Processing Record 46 of Set 7 | moron\n",
      "Processing Record 47 of Set 7 | naica\n",
      "Processing Record 48 of Set 7 | qaqortoq\n",
      "Processing Record 49 of Set 7 | bone\n",
      "Processing Record 0 of Set 8 | torbay\n",
      "Processing Record 1 of Set 8 | isaka\n",
      "Processing Record 2 of Set 8 | christchurch\n",
      "Processing Record 3 of Set 8 | urdzhar\n",
      "City not found. Skipping...\n",
      "Processing Record 4 of Set 8 | monrovia\n",
      "Processing Record 5 of Set 8 | kilindoni\n",
      "Processing Record 6 of Set 8 | nehe\n",
      "Processing Record 7 of Set 8 | kyren\n",
      "Processing Record 8 of Set 8 | awbari\n",
      "Processing Record 9 of Set 8 | mentok\n",
      "City not found. Skipping...\n",
      "Processing Record 10 of Set 8 | muscat\n",
      "Processing Record 11 of Set 8 | lincoln\n",
      "Processing Record 12 of Set 8 | longyearbyen\n",
      "Processing Record 13 of Set 8 | san matias\n",
      "Processing Record 14 of Set 8 | eureka\n",
      "Processing Record 15 of Set 8 | santa cruz de tenerife\n",
      "Processing Record 16 of Set 8 | iquitos\n",
      "Processing Record 17 of Set 8 | tenenkou\n",
      "Processing Record 18 of Set 8 | meyungs\n",
      "City not found. Skipping...\n",
      "Processing Record 19 of Set 8 | tieling\n",
      "Processing Record 20 of Set 8 | hobyo\n",
      "Processing Record 21 of Set 8 | coahuayana\n",
      "Processing Record 22 of Set 8 | buritizeiro\n",
      "Processing Record 23 of Set 8 | tabialan\n",
      "City not found. Skipping...\n",
      "Processing Record 24 of Set 8 | naziya\n",
      "Processing Record 25 of Set 8 | vilhena\n",
      "Processing Record 26 of Set 8 | bucerias\n",
      "Processing Record 27 of Set 8 | nichinan\n"
     ]
    },
    {
     "name": "stdout",
     "output_type": "stream",
     "text": [
      "Processing Record 28 of Set 8 | kavieng\n",
      "Processing Record 29 of Set 8 | rio grande\n",
      "Processing Record 30 of Set 8 | gayny\n",
      "Processing Record 31 of Set 8 | chicama\n",
      "Processing Record 32 of Set 8 | karratha\n",
      "Processing Record 33 of Set 8 | mayumba\n",
      "Processing Record 34 of Set 8 | bikin\n",
      "Processing Record 35 of Set 8 | alakurtti\n",
      "Processing Record 36 of Set 8 | la libertad\n",
      "Processing Record 37 of Set 8 | saleaula\n",
      "City not found. Skipping...\n",
      "Processing Record 38 of Set 8 | meadow lake\n",
      "Processing Record 39 of Set 8 | marzuq\n",
      "Processing Record 40 of Set 8 | amderma\n",
      "City not found. Skipping...\n",
      "Processing Record 41 of Set 8 | labuhan\n",
      "Processing Record 42 of Set 8 | sandur\n",
      "Processing Record 43 of Set 8 | nantucket\n",
      "Processing Record 44 of Set 8 | san angelo\n",
      "Processing Record 45 of Set 8 | zapolyarnyy\n",
      "Processing Record 46 of Set 8 | yirol\n",
      "City not found. Skipping...\n",
      "Processing Record 47 of Set 8 | sept-iles\n",
      "Processing Record 48 of Set 8 | jaragua\n",
      "Processing Record 49 of Set 8 | moranbah\n",
      "Processing Record 0 of Set 9 | nishihara\n",
      "Processing Record 1 of Set 9 | gacko\n",
      "Processing Record 2 of Set 9 | lufilufi\n",
      "Processing Record 3 of Set 9 | kargopol\n",
      "Processing Record 4 of Set 9 | magadan\n",
      "Processing Record 5 of Set 9 | tres arroyos\n",
      "Processing Record 6 of Set 9 | ponerihouen\n",
      "Processing Record 7 of Set 9 | saint-augustin\n",
      "Processing Record 8 of Set 9 | cagayan de tawi-tawi\n",
      "City not found. Skipping...\n",
      "Processing Record 9 of Set 9 | remontnoye\n",
      "Processing Record 10 of Set 9 | kawalu\n",
      "Processing Record 11 of Set 9 | burnie\n",
      "Processing Record 12 of Set 9 | prince rupert\n",
      "Processing Record 13 of Set 9 | pampa\n",
      "Processing Record 14 of Set 9 | durazno\n",
      "Processing Record 15 of Set 9 | banda aceh\n",
      "Processing Record 16 of Set 9 | pacific grove\n",
      "Processing Record 17 of Set 9 | pingliang\n",
      "Processing Record 18 of Set 9 | shubarshi\n",
      "Processing Record 19 of Set 9 | beziers\n",
      "Processing Record 20 of Set 9 | chagda\n",
      "City not found. Skipping...\n",
      "Processing Record 21 of Set 9 | lazaro cardenas\n",
      "Processing Record 22 of Set 9 | saboya\n",
      "Processing Record 23 of Set 9 | hofn\n",
      "Processing Record 24 of Set 9 | shu\n",
      "Processing Record 25 of Set 9 | bushehr\n",
      "Processing Record 26 of Set 9 | daru\n",
      "Processing Record 27 of Set 9 | kleck\n",
      "City not found. Skipping...\n",
      "Processing Record 28 of Set 9 | middletown\n",
      "Processing Record 29 of Set 9 | buraydah\n",
      "Processing Record 30 of Set 9 | chern\n",
      "Processing Record 31 of Set 9 | mizdah\n",
      "Processing Record 32 of Set 9 | sutesti\n",
      "Processing Record 33 of Set 9 | bolshegrivskoye\n",
      "City not found. Skipping...\n",
      "Processing Record 34 of Set 9 | ocos\n",
      "Processing Record 35 of Set 9 | gayeri\n",
      "Processing Record 36 of Set 9 | hokitika\n",
      "Processing Record 37 of Set 9 | nouadhibou\n",
      "Processing Record 38 of Set 9 | hualmay\n",
      "Processing Record 39 of Set 9 | soyo\n",
      "Processing Record 40 of Set 9 | louisbourg\n",
      "City not found. Skipping...\n",
      "Processing Record 41 of Set 9 | auki\n",
      "Processing Record 42 of Set 9 | macaboboni\n",
      "City not found. Skipping...\n",
      "Processing Record 43 of Set 9 | henties bay\n",
      "Processing Record 44 of Set 9 | vastervik\n",
      "City not found. Skipping...\n",
      "Processing Record 45 of Set 9 | bolonchen\n",
      "City not found. Skipping...\n",
      "Processing Record 46 of Set 9 | prescott\n",
      "Processing Record 47 of Set 9 | kysyl-syr\n",
      "Processing Record 48 of Set 9 | bathsheba\n",
      "Processing Record 49 of Set 9 | kasongo-lunda\n",
      "Processing Record 0 of Set 10 | kapoeta\n",
      "Processing Record 1 of Set 10 | jyvaskyla\n",
      "Processing Record 2 of Set 10 | opuwo\n",
      "Processing Record 3 of Set 10 | kerema\n",
      "Processing Record 4 of Set 10 | lavrentiya\n",
      "Processing Record 5 of Set 10 | pangai\n",
      "Processing Record 6 of Set 10 | oussouye\n",
      "Processing Record 7 of Set 10 | galle\n",
      "Processing Record 8 of Set 10 | saldanha\n",
      "Processing Record 9 of Set 10 | kawerau\n",
      "Processing Record 10 of Set 10 | umba\n",
      "Processing Record 11 of Set 10 | ouadda\n",
      "Processing Record 12 of Set 10 | masuguru\n",
      "Processing Record 13 of Set 10 | cine\n",
      "Processing Record 14 of Set 10 | gambela\n",
      "Processing Record 15 of Set 10 | tomatlan\n",
      "Processing Record 16 of Set 10 | fairbanks\n",
      "Processing Record 17 of Set 10 | mandalgovi\n",
      "Processing Record 18 of Set 10 | chaa-khol\n",
      "City not found. Skipping...\n",
      "Processing Record 19 of Set 10 | whitehorse\n",
      "Processing Record 20 of Set 10 | baloda bazar\n",
      "Processing Record 21 of Set 10 | satana\n",
      "Processing Record 22 of Set 10 | haibowan\n",
      "City not found. Skipping...\n",
      "Processing Record 23 of Set 10 | salmas\n",
      "Processing Record 24 of Set 10 | toro\n",
      "Processing Record 25 of Set 10 | tanggu\n",
      "Processing Record 26 of Set 10 | yuancheng\n",
      "Processing Record 27 of Set 10 | bassano\n",
      "Processing Record 28 of Set 10 | sakaiminato\n",
      "Processing Record 29 of Set 10 | sogdiondon\n",
      "City not found. Skipping...\n",
      "Processing Record 30 of Set 10 | maghama\n",
      "City not found. Skipping...\n",
      "Processing Record 31 of Set 10 | peniche\n",
      "Processing Record 32 of Set 10 | kazalinsk\n",
      "City not found. Skipping...\n",
      "Processing Record 33 of Set 10 | bulungu\n",
      "Processing Record 34 of Set 10 | lamu\n",
      "Processing Record 35 of Set 10 | tarudant\n",
      "City not found. Skipping...\n",
      "Processing Record 36 of Set 10 | samusu\n",
      "City not found. Skipping...\n",
      "Processing Record 37 of Set 10 | tra vinh\n",
      "Processing Record 38 of Set 10 | meulaboh\n",
      "Processing Record 39 of Set 10 | kupang\n",
      "Processing Record 40 of Set 10 | qasigiannguit\n",
      "Processing Record 41 of Set 10 | grindavik\n",
      "Processing Record 42 of Set 10 | tinde\n",
      "Processing Record 43 of Set 10 | loikaw\n",
      "Processing Record 44 of Set 10 | sao jose da coroa grande\n",
      "Processing Record 45 of Set 10 | thinadhoo\n",
      "Processing Record 46 of Set 10 | katsuura\n",
      "Processing Record 47 of Set 10 | moose factory\n",
      "Processing Record 48 of Set 10 | agha jari\n",
      "City not found. Skipping...\n",
      "Processing Record 49 of Set 10 | sibolga\n",
      "Processing Record 0 of Set 11 | talnakh\n",
      "Processing Record 1 of Set 11 | puerto carreno\n",
      "Processing Record 2 of Set 11 | griffith\n",
      "Processing Record 3 of Set 11 | mont-de-marsan\n",
      "Processing Record 4 of Set 11 | akdepe\n",
      "Processing Record 5 of Set 11 | port macquarie\n",
      "Processing Record 6 of Set 11 | ponta delgada\n",
      "Processing Record 7 of Set 11 | soure\n",
      "Processing Record 8 of Set 11 | iwata\n",
      "Processing Record 9 of Set 11 | bonfim\n",
      "Processing Record 10 of Set 11 | mitsamiouli\n",
      "Processing Record 11 of Set 11 | ponta do sol\n",
      "Processing Record 12 of Set 11 | adet\n",
      "Processing Record 13 of Set 11 | pekin\n",
      "Processing Record 14 of Set 11 | katsiveli\n",
      "City not found. Skipping...\n",
      "Processing Record 15 of Set 11 | makakilo city\n",
      "Processing Record 16 of Set 11 | klaksvik\n",
      "Processing Record 17 of Set 11 | kiboga\n",
      "Processing Record 18 of Set 11 | san policarpo\n",
      "Processing Record 19 of Set 11 | lerwick\n",
      "Processing Record 20 of Set 11 | nizhniy kuranakh\n",
      "Processing Record 21 of Set 11 | lorengau\n",
      "Processing Record 22 of Set 11 | olafsvik\n",
      "Processing Record 23 of Set 11 | forestville\n",
      "Processing Record 24 of Set 11 | aviemore\n",
      "Processing Record 25 of Set 11 | samalaeulu\n",
      "City not found. Skipping...\n",
      "Processing Record 26 of Set 11 | portland\n",
      "Processing Record 27 of Set 11 | biggar\n",
      "Processing Record 28 of Set 11 | khasan\n",
      "Processing Record 29 of Set 11 | gumdag\n",
      "Processing Record 30 of Set 11 | lethem\n",
      "Processing Record 31 of Set 11 | igrim\n",
      "Processing Record 32 of Set 11 | el campo\n",
      "Processing Record 33 of Set 11 | bhadrak\n",
      "Processing Record 34 of Set 11 | bowen\n",
      "Processing Record 35 of Set 11 | suleja\n",
      "Processing Record 36 of Set 11 | constitucion\n",
      "Processing Record 37 of Set 11 | cherskiy\n",
      "Processing Record 38 of Set 11 | zhezkazgan\n",
      "Processing Record 39 of Set 11 | santa isabel do rio negro\n",
      "Processing Record 40 of Set 11 | wawa\n",
      "Processing Record 41 of Set 11 | wahiawa\n",
      "Processing Record 42 of Set 11 | upata\n",
      "Processing Record 43 of Set 11 | nisia floresta\n",
      "Processing Record 44 of Set 11 | cap malheureux\n",
      "Processing Record 45 of Set 11 | lichinga\n",
      "Processing Record 46 of Set 11 | fuzhou\n",
      "Processing Record 47 of Set 11 | taoudenni\n",
      "Processing Record 48 of Set 11 | sabzevar\n",
      "Processing Record 49 of Set 11 | palabuhanratu\n",
      "City not found. Skipping...\n",
      "Processing Record 0 of Set 12 | margate\n",
      "Processing Record 1 of Set 12 | acapulco\n",
      "Processing Record 2 of Set 12 | gumia\n",
      "Processing Record 3 of Set 12 | senanga\n",
      "Processing Record 4 of Set 12 | torrelavega\n",
      "Processing Record 5 of Set 12 | baculin\n",
      "Processing Record 6 of Set 12 | scarborough\n",
      "Processing Record 7 of Set 12 | minab\n",
      "Processing Record 8 of Set 12 | clearlake\n",
      "Processing Record 9 of Set 12 | dzhebariki-khaya\n"
     ]
    },
    {
     "name": "stdout",
     "output_type": "stream",
     "text": [
      "Processing Record 10 of Set 12 | kendari\n",
      "Processing Record 11 of Set 12 | methoni\n",
      "Processing Record 12 of Set 12 | pa sang\n",
      "Processing Record 13 of Set 12 | sovetskiy\n",
      "Processing Record 14 of Set 12 | ranfurly\n",
      "Processing Record 15 of Set 12 | oistins\n",
      "Processing Record 16 of Set 12 | juneau\n",
      "Processing Record 17 of Set 12 | satitoa\n",
      "City not found. Skipping...\n",
      "Processing Record 18 of Set 12 | cockburn town\n",
      "Processing Record 19 of Set 12 | nam tha\n",
      "City not found. Skipping...\n",
      "Processing Record 20 of Set 12 | chake chake\n",
      "Processing Record 21 of Set 12 | barcelona\n",
      "Processing Record 22 of Set 12 | bahia honda\n",
      "Processing Record 23 of Set 12 | vostok\n",
      "Processing Record 24 of Set 12 | bage\n",
      "Processing Record 25 of Set 12 | hendek\n",
      "Processing Record 26 of Set 12 | halalo\n",
      "City not found. Skipping...\n",
      "Processing Record 27 of Set 12 | ushibuka\n",
      "Processing Record 28 of Set 12 | turochak\n",
      "Processing Record 29 of Set 12 | cabedelo\n",
      "Processing Record 30 of Set 12 | teahupoo\n",
      "Processing Record 31 of Set 12 | roald\n",
      "Processing Record 32 of Set 12 | mikhaylovka\n",
      "Processing Record 33 of Set 12 | chalchihuites\n",
      "Processing Record 34 of Set 12 | mersing\n",
      "Processing Record 35 of Set 12 | tamworth\n",
      "Processing Record 36 of Set 12 | effingham\n",
      "Processing Record 37 of Set 12 | rockingham\n",
      "Processing Record 38 of Set 12 | bilma\n",
      "Processing Record 39 of Set 12 | manicore\n",
      "Processing Record 40 of Set 12 | shimoda\n",
      "Processing Record 41 of Set 12 | ingham\n",
      "Processing Record 42 of Set 12 | doka\n",
      "Processing Record 43 of Set 12 | tezu\n",
      "Processing Record 44 of Set 12 | antalaha\n",
      "Processing Record 45 of Set 12 | huron\n",
      "Processing Record 46 of Set 12 | tilichiki\n",
      "Processing Record 47 of Set 12 | ust-tsilma\n",
      "Processing Record 48 of Set 12 | cam ranh\n",
      "Processing Record 49 of Set 12 | la ronge\n",
      "-----------------------------\n",
      "Data Retrieval Complete      \n",
      "-----------------------------\n"
     ]
    }
   ],
   "source": [
    "# Set the API base URL\n",
    "url = \"http://api.openweathermap.org/data/2.5/weather?id=524901&units=Imperial&APPID=\" + weather_api_key\n",
    "\n",
    "# Define an empty list to fetch the weather data for each city\n",
    "city_data = []\n",
    "\n",
    "\n",
    "print(\"Beginning Data Retrieval     \")\n",
    "print(\"-----------------------------\")\n",
    "\n",
    "# Create counters\n",
    "record_count = 1\n",
    "set_count = 1\n",
    "\n",
    "# Loop through all the cities in our list to fetch weather data\n",
    "for i, city in enumerate(cities):\n",
    "        \n",
    "    # Group cities in sets of 50 for logging purposes\n",
    "    if (i % 50 == 0 and i >= 50):\n",
    "        set_count += 1\n",
    "        record_count = 0\n",
    "\n",
    "    # Create endpoint URL with each city\n",
    "    city_url = url + \"&q=\" + city\n",
    "    # Log the url, record, and set numbers\n",
    "    print(\"Processing Record %s of Set %s | %s\" % (record_count, set_count, city))\n",
    "\n",
    "    # Add 1 to the record count\n",
    "    record_count += 1\n",
    "\n",
    "    # Run an API request for each of the cities\n",
    "        # Parse the JSON and retrieve data\n",
    "        \n",
    "    try:\n",
    "        # Parse the JSON and retrieve data\n",
    "        city_weather = requests.get(city_url).json()\n",
    "\n",
    "        # Parse out latitude, longitude, max temp, humidity, cloudiness, wind speed, country, and date\n",
    "        city_lat = city_weather[\"coord\"][\"lat\"]\n",
    "        city_lng = city_weather[\"coord\"][\"lon\"]\n",
    "        city_max_temp = city_weather[\"main\"][\"temp_max\"]\n",
    "        city_humidity = city_weather[\"main\"][\"humidity\"]\n",
    "        city_clouds = city_weather[\"clouds\"][\"all\"]\n",
    "        city_wind = city_weather[\"wind\"][\"speed\"]\n",
    "        city_country = city_weather[\"sys\"][\"country\"]\n",
    "        city_date = city_weather[\"dt\"]\n",
    "\n",
    "        # Append the City information into city_data list\n",
    "        city_data.append({\"City\": city, \n",
    "                          \"Lat\": city_lat, \n",
    "                          \"Lng\": city_lng, \n",
    "                          \"Max Temp\": city_max_temp,\n",
    "                          \"Humidity\": city_humidity,\n",
    "                          \"Cloudiness\": city_clouds,\n",
    "                          \"Wind Speed\": city_wind,\n",
    "                          \"Country\": city_country,\n",
    "                          \"Date\": city_date})\n",
    "\n",
    "    # If an error is experienced, skip the city\n",
    "    except:\n",
    "        print(\"City not found. Skipping...\")\n",
    "        pass\n",
    "              \n",
    "              \n",
    "# Indicate that Data Loading is complete \n",
    "print(\"-----------------------------\")\n",
    "print(\"Data Retrieval Complete      \")\n",
    "print(\"-----------------------------\")"
   ]
  },
  {
   "cell_type": "code",
   "execution_count": 51,
   "metadata": {},
   "outputs": [
    {
     "data": {
      "text/plain": [
       "544"
      ]
     },
     "execution_count": 51,
     "metadata": {},
     "output_type": "execute_result"
    }
   ],
   "source": [
    "len(city_data)"
   ]
  },
  {
   "cell_type": "code",
   "execution_count": 52,
   "metadata": {},
   "outputs": [
    {
     "data": {
      "text/plain": [
       "City          544\n",
       "Lat           544\n",
       "Lng           544\n",
       "Max Temp      544\n",
       "Humidity      544\n",
       "Cloudiness    544\n",
       "Wind Speed    544\n",
       "Country       544\n",
       "Date          544\n",
       "dtype: int64"
      ]
     },
     "execution_count": 52,
     "metadata": {},
     "output_type": "execute_result"
    }
   ],
   "source": [
    "# Convert the cities weather data into a Pandas DataFrame\n",
    "city_data_df = pd.DataFrame(city_data)\n",
    "\n",
    "# Show Record Count\n",
    "city_data_df.count()"
   ]
  },
  {
   "cell_type": "code",
   "execution_count": 54,
   "metadata": {},
   "outputs": [
    {
     "data": {
      "text/html": [
       "<div>\n",
       "<style scoped>\n",
       "    .dataframe tbody tr th:only-of-type {\n",
       "        vertical-align: middle;\n",
       "    }\n",
       "\n",
       "    .dataframe tbody tr th {\n",
       "        vertical-align: top;\n",
       "    }\n",
       "\n",
       "    .dataframe thead th {\n",
       "        text-align: right;\n",
       "    }\n",
       "</style>\n",
       "<table border=\"1\" class=\"dataframe\">\n",
       "  <thead>\n",
       "    <tr style=\"text-align: right;\">\n",
       "      <th></th>\n",
       "      <th>City</th>\n",
       "      <th>Lat</th>\n",
       "      <th>Lng</th>\n",
       "      <th>Max Temp</th>\n",
       "      <th>Humidity</th>\n",
       "      <th>Cloudiness</th>\n",
       "      <th>Wind Speed</th>\n",
       "      <th>Country</th>\n",
       "      <th>Date</th>\n",
       "    </tr>\n",
       "  </thead>\n",
       "  <tbody>\n",
       "    <tr>\n",
       "      <th>0</th>\n",
       "      <td>clovis</td>\n",
       "      <td>36.8252</td>\n",
       "      <td>-119.7029</td>\n",
       "      <td>68.67</td>\n",
       "      <td>37</td>\n",
       "      <td>100</td>\n",
       "      <td>11.50</td>\n",
       "      <td>US</td>\n",
       "      <td>1675551206</td>\n",
       "    </tr>\n",
       "    <tr>\n",
       "      <th>1</th>\n",
       "      <td>mount gambier</td>\n",
       "      <td>-37.8333</td>\n",
       "      <td>140.7667</td>\n",
       "      <td>59.36</td>\n",
       "      <td>72</td>\n",
       "      <td>100</td>\n",
       "      <td>3.87</td>\n",
       "      <td>AU</td>\n",
       "      <td>1675551206</td>\n",
       "    </tr>\n",
       "    <tr>\n",
       "      <th>2</th>\n",
       "      <td>severo-kurilsk</td>\n",
       "      <td>50.6789</td>\n",
       "      <td>156.1250</td>\n",
       "      <td>27.32</td>\n",
       "      <td>72</td>\n",
       "      <td>100</td>\n",
       "      <td>5.86</td>\n",
       "      <td>RU</td>\n",
       "      <td>1675551174</td>\n",
       "    </tr>\n",
       "    <tr>\n",
       "      <th>3</th>\n",
       "      <td>lompoc</td>\n",
       "      <td>34.6391</td>\n",
       "      <td>-120.4579</td>\n",
       "      <td>69.94</td>\n",
       "      <td>73</td>\n",
       "      <td>40</td>\n",
       "      <td>9.22</td>\n",
       "      <td>US</td>\n",
       "      <td>1675551207</td>\n",
       "    </tr>\n",
       "    <tr>\n",
       "      <th>4</th>\n",
       "      <td>nome</td>\n",
       "      <td>64.5011</td>\n",
       "      <td>-165.4064</td>\n",
       "      <td>12.27</td>\n",
       "      <td>92</td>\n",
       "      <td>100</td>\n",
       "      <td>0.00</td>\n",
       "      <td>US</td>\n",
       "      <td>1675551094</td>\n",
       "    </tr>\n",
       "  </tbody>\n",
       "</table>\n",
       "</div>"
      ],
      "text/plain": [
       "             City      Lat       Lng  Max Temp  Humidity  Cloudiness  \\\n",
       "0          clovis  36.8252 -119.7029     68.67        37         100   \n",
       "1   mount gambier -37.8333  140.7667     59.36        72         100   \n",
       "2  severo-kurilsk  50.6789  156.1250     27.32        72         100   \n",
       "3          lompoc  34.6391 -120.4579     69.94        73          40   \n",
       "4            nome  64.5011 -165.4064     12.27        92         100   \n",
       "\n",
       "   Wind Speed Country        Date  \n",
       "0       11.50      US  1675551206  \n",
       "1        3.87      AU  1675551206  \n",
       "2        5.86      RU  1675551174  \n",
       "3        9.22      US  1675551207  \n",
       "4        0.00      US  1675551094  "
      ]
     },
     "execution_count": 54,
     "metadata": {},
     "output_type": "execute_result"
    }
   ],
   "source": [
    "# Display sample data\n",
    "city_data_df.head()"
   ]
  },
  {
   "cell_type": "code",
   "execution_count": 55,
   "metadata": {},
   "outputs": [],
   "source": [
    "# Export the City_Data into a csv\n",
    "city_data_df.to_csv(\"../output_data/cities.csv\", index_label=\"City_ID\")"
   ]
  },
  {
   "cell_type": "code",
   "execution_count": 56,
   "metadata": {},
   "outputs": [
    {
     "data": {
      "text/html": [
       "<div>\n",
       "<style scoped>\n",
       "    .dataframe tbody tr th:only-of-type {\n",
       "        vertical-align: middle;\n",
       "    }\n",
       "\n",
       "    .dataframe tbody tr th {\n",
       "        vertical-align: top;\n",
       "    }\n",
       "\n",
       "    .dataframe thead th {\n",
       "        text-align: right;\n",
       "    }\n",
       "</style>\n",
       "<table border=\"1\" class=\"dataframe\">\n",
       "  <thead>\n",
       "    <tr style=\"text-align: right;\">\n",
       "      <th></th>\n",
       "      <th>City</th>\n",
       "      <th>Lat</th>\n",
       "      <th>Lng</th>\n",
       "      <th>Max Temp</th>\n",
       "      <th>Humidity</th>\n",
       "      <th>Cloudiness</th>\n",
       "      <th>Wind Speed</th>\n",
       "      <th>Country</th>\n",
       "      <th>Date</th>\n",
       "    </tr>\n",
       "    <tr>\n",
       "      <th>City_ID</th>\n",
       "      <th></th>\n",
       "      <th></th>\n",
       "      <th></th>\n",
       "      <th></th>\n",
       "      <th></th>\n",
       "      <th></th>\n",
       "      <th></th>\n",
       "      <th></th>\n",
       "      <th></th>\n",
       "    </tr>\n",
       "  </thead>\n",
       "  <tbody>\n",
       "    <tr>\n",
       "      <th>0</th>\n",
       "      <td>clovis</td>\n",
       "      <td>36.8252</td>\n",
       "      <td>-119.7029</td>\n",
       "      <td>68.67</td>\n",
       "      <td>37</td>\n",
       "      <td>100</td>\n",
       "      <td>11.50</td>\n",
       "      <td>US</td>\n",
       "      <td>1675551206</td>\n",
       "    </tr>\n",
       "    <tr>\n",
       "      <th>1</th>\n",
       "      <td>mount gambier</td>\n",
       "      <td>-37.8333</td>\n",
       "      <td>140.7667</td>\n",
       "      <td>59.36</td>\n",
       "      <td>72</td>\n",
       "      <td>100</td>\n",
       "      <td>3.87</td>\n",
       "      <td>AU</td>\n",
       "      <td>1675551206</td>\n",
       "    </tr>\n",
       "    <tr>\n",
       "      <th>2</th>\n",
       "      <td>severo-kurilsk</td>\n",
       "      <td>50.6789</td>\n",
       "      <td>156.1250</td>\n",
       "      <td>27.32</td>\n",
       "      <td>72</td>\n",
       "      <td>100</td>\n",
       "      <td>5.86</td>\n",
       "      <td>RU</td>\n",
       "      <td>1675551174</td>\n",
       "    </tr>\n",
       "    <tr>\n",
       "      <th>3</th>\n",
       "      <td>lompoc</td>\n",
       "      <td>34.6391</td>\n",
       "      <td>-120.4579</td>\n",
       "      <td>69.94</td>\n",
       "      <td>73</td>\n",
       "      <td>40</td>\n",
       "      <td>9.22</td>\n",
       "      <td>US</td>\n",
       "      <td>1675551207</td>\n",
       "    </tr>\n",
       "    <tr>\n",
       "      <th>4</th>\n",
       "      <td>nome</td>\n",
       "      <td>64.5011</td>\n",
       "      <td>-165.4064</td>\n",
       "      <td>12.27</td>\n",
       "      <td>92</td>\n",
       "      <td>100</td>\n",
       "      <td>0.00</td>\n",
       "      <td>US</td>\n",
       "      <td>1675551094</td>\n",
       "    </tr>\n",
       "  </tbody>\n",
       "</table>\n",
       "</div>"
      ],
      "text/plain": [
       "                   City      Lat       Lng  Max Temp  Humidity  Cloudiness  \\\n",
       "City_ID                                                                      \n",
       "0                clovis  36.8252 -119.7029     68.67        37         100   \n",
       "1         mount gambier -37.8333  140.7667     59.36        72         100   \n",
       "2        severo-kurilsk  50.6789  156.1250     27.32        72         100   \n",
       "3                lompoc  34.6391 -120.4579     69.94        73          40   \n",
       "4                  nome  64.5011 -165.4064     12.27        92         100   \n",
       "\n",
       "         Wind Speed Country        Date  \n",
       "City_ID                                  \n",
       "0             11.50      US  1675551206  \n",
       "1              3.87      AU  1675551206  \n",
       "2              5.86      RU  1675551174  \n",
       "3              9.22      US  1675551207  \n",
       "4              0.00      US  1675551094  "
      ]
     },
     "execution_count": 56,
     "metadata": {},
     "output_type": "execute_result"
    }
   ],
   "source": [
    "# Read saved data\n",
    "city_data_df = pd.read_csv(\"../output_data/cities.csv\", index_col=\"City_ID\")\n",
    "\n",
    "# Display sample data\n",
    "city_data_df.head()"
   ]
  },
  {
   "cell_type": "markdown",
   "metadata": {},
   "source": [
    "### Create the Scatter Plots Requested\n",
    "\n",
    "#### Latitude Vs. Temperature"
   ]
  },
  {
   "cell_type": "code",
   "execution_count": 57,
   "metadata": {
    "tags": []
   },
   "outputs": [
    {
     "data": {
      "image/png": "[encoded data removed]",
      "text/plain": [
       "<Figure size 432x288 with 1 Axes>"
      ]
     },
     "metadata": {
      "needs_background": "light"
     },
     "output_type": "display_data"
    }
   ],
   "source": [
    "# Build scatter plot for latitude vs. temperature\n",
    "# YOUR CODE HERE\n",
    "plt.scatter(city_data_df[\"Lat\"], city_data_df[\"Max Temp\"], marker=\"o\", \n",
    "           alpha=.75, edgecolors=\"k\")\n",
    "\n",
    "# Incorporate the other graph properties\n",
    "# YOUR CODE HERE\n",
    "plt.title(\"City Max Latitude vs. Temperature (2022-10-18)  \")\n",
    "plt.ylabel(\"Max Temperature (C)\")\n",
    "plt.xlabel(\"Latitude\")\n",
    "plt.grid(True)\n",
    "\n",
    "# Save the figure\n",
    "plt.savefig(\"../output_data/Fig1.png\")\n",
    "\n",
    "# Show plot\n",
    "plt.show()"
   ]
  },
  {
   "cell_type": "markdown",
   "metadata": {},
   "source": [
    "#### Latitude Vs. Humidity"
   ]
  },
  {
   "cell_type": "code",
   "execution_count": 58,
   "metadata": {},
   "outputs": [
    {
     "data": {
      "image/png": "[encoded data removed]",
      "text/plain": [
       "<Figure size 432x288 with 1 Axes>"
      ]
     },
     "metadata": {
      "needs_background": "light"
     },
     "output_type": "display_data"
    }
   ],
   "source": [
    "# Build the scatter plots for latitude vs. humidity\n",
    "plt.scatter(city_data_df[\"Lat\"], city_data_df[\"Humidity\"], marker=\"o\", \n",
    "           linewidth=1,alpha=.75, edgecolors=\"k\")\n",
    "\n",
    "# Incorporate the other graph properties\n",
    "# YOUR CODE HERE\n",
    "plt.title(\"City Max Latitude vs. Humidity (2022-10-18)  \")\n",
    "plt.ylabel(\"Humidity (%)\")\n",
    "plt.xlabel(\"Latitude\")\n",
    "plt.grid(True)\n",
    "\n",
    "\n",
    "# Save the figure\n",
    "plt.savefig(\"../output_data/Fig2.png\")\n",
    "\n",
    "# Show plot\n",
    "plt.show()"
   ]
  },
  {
   "cell_type": "markdown",
   "metadata": {},
   "source": [
    "#### Latitude Vs. Cloudiness"
   ]
  },
  {
   "cell_type": "code",
   "execution_count": 59,
   "metadata": {},
   "outputs": [
    {
     "data": {
      "image/png": "[encoded data removed]",
      "text/plain": [
       "<Figure size 432x288 with 1 Axes>"
      ]
     },
     "metadata": {
      "needs_background": "light"
     },
     "output_type": "display_data"
    }
   ],
   "source": [
    "# Build the scatter plots for latitude vs. cloudiness\n",
    "# YOUR CODE HERE\n",
    "plt.scatter(city_data_df[\"Lat\"], city_data_df[\"Cloudiness\"], marker=\"o\", \n",
    "           linewidth=1,alpha=.75, edgecolors=\"k\")\n",
    "\n",
    "# Incorporate the other graph properties\n",
    "# YOUR CODE HERE\n",
    "plt.title(\"City Max Latitude vs. Cloudiness (2022-10-18)  \")\n",
    "plt.ylabel(\"Cloudiness (%)\")\n",
    "plt.xlabel(\"Latitude\")\n",
    "plt.grid(True)\n",
    "\n",
    "\n",
    "# Save the figure\n",
    "plt.savefig(\"../output_data/Fig3.png\")\n",
    "\n",
    "# Show plot\n",
    "plt.show()"
   ]
  },
  {
   "cell_type": "markdown",
   "metadata": {},
   "source": [
    "#### Latitude vs. Wind Speed Plot"
   ]
  },
  {
   "cell_type": "code",
   "execution_count": 60,
   "metadata": {},
   "outputs": [
    {
     "data": {
      "image/png": "[encoded data removed]",
      "text/plain": [
       "<Figure size 432x288 with 1 Axes>"
      ]
     },
     "metadata": {
      "needs_background": "light"
     },
     "output_type": "display_data"
    }
   ],
   "source": [
    "# Build the scatter plots for latitude vs. wind speed\n",
    "# YOUR CODE HERE\n",
    "\n",
    "plt.scatter(city_data_df[\"Lat\"], city_data_df[\"Wind Speed\"], marker=\"o\", \n",
    "           linewidth=1,alpha=.75, edgecolors=\"k\")\n",
    "\n",
    "# Incorporate the other graph properties\n",
    "# YOUR CODE HERE\n",
    "plt.title(\"City Max Latitude vs. Wind Speed (2022-10-18)  \")\n",
    "plt.ylabel(\"Wind Speed (m/s)\")\n",
    "plt.xlabel(\"Latitude\")\n",
    "plt.grid(True)\n",
    "\n",
    "# Save the figure\n",
    "plt.savefig(\"../output_data/Fig4.png\")\n",
    "\n",
    "# Show plot\n",
    "plt.show()"
   ]
  },
  {
   "cell_type": "markdown",
   "metadata": {},
   "source": [
    "---\n",
    "\n",
    "## Requirement 2: Compute Linear Regression for Each Relationship\n"
   ]
  },
  {
   "cell_type": "code",
   "execution_count": 62,
   "metadata": {},
   "outputs": [],
   "source": [
    "# Define a function to create Linear Regression plots\n",
    "# YOUR CODE HERE\n",
    "\n",
    "northern_hemi_df = city_data_df.loc[city_data_df[\"Lat\"] >= 0]\n",
    "southern_hemi_df = city_data_df.loc[city_data_df[\"Lat\"] < 0]"
   ]
  },
  {
   "cell_type": "code",
   "execution_count": 63,
   "metadata": {},
   "outputs": [
    {
     "data": {
      "text/html": [
       "<div>\n",
       "<style scoped>\n",
       "    .dataframe tbody tr th:only-of-type {\n",
       "        vertical-align: middle;\n",
       "    }\n",
       "\n",
       "    .dataframe tbody tr th {\n",
       "        vertical-align: top;\n",
       "    }\n",
       "\n",
       "    .dataframe thead th {\n",
       "        text-align: right;\n",
       "    }\n",
       "</style>\n",
       "<table border=\"1\" class=\"dataframe\">\n",
       "  <thead>\n",
       "    <tr style=\"text-align: right;\">\n",
       "      <th></th>\n",
       "      <th>City</th>\n",
       "      <th>Lat</th>\n",
       "      <th>Lng</th>\n",
       "      <th>Max Temp</th>\n",
       "      <th>Humidity</th>\n",
       "      <th>Cloudiness</th>\n",
       "      <th>Wind Speed</th>\n",
       "      <th>Country</th>\n",
       "      <th>Date</th>\n",
       "    </tr>\n",
       "    <tr>\n",
       "      <th>City_ID</th>\n",
       "      <th></th>\n",
       "      <th></th>\n",
       "      <th></th>\n",
       "      <th></th>\n",
       "      <th></th>\n",
       "      <th></th>\n",
       "      <th></th>\n",
       "      <th></th>\n",
       "      <th></th>\n",
       "    </tr>\n",
       "  </thead>\n",
       "  <tbody>\n",
       "    <tr>\n",
       "      <th>0</th>\n",
       "      <td>clovis</td>\n",
       "      <td>36.8252</td>\n",
       "      <td>-119.7029</td>\n",
       "      <td>68.67</td>\n",
       "      <td>37</td>\n",
       "      <td>100</td>\n",
       "      <td>11.50</td>\n",
       "      <td>US</td>\n",
       "      <td>1675551206</td>\n",
       "    </tr>\n",
       "    <tr>\n",
       "      <th>2</th>\n",
       "      <td>severo-kurilsk</td>\n",
       "      <td>50.6789</td>\n",
       "      <td>156.1250</td>\n",
       "      <td>27.32</td>\n",
       "      <td>72</td>\n",
       "      <td>100</td>\n",
       "      <td>5.86</td>\n",
       "      <td>RU</td>\n",
       "      <td>1675551174</td>\n",
       "    </tr>\n",
       "    <tr>\n",
       "      <th>3</th>\n",
       "      <td>lompoc</td>\n",
       "      <td>34.6391</td>\n",
       "      <td>-120.4579</td>\n",
       "      <td>69.94</td>\n",
       "      <td>73</td>\n",
       "      <td>40</td>\n",
       "      <td>9.22</td>\n",
       "      <td>US</td>\n",
       "      <td>1675551207</td>\n",
       "    </tr>\n",
       "    <tr>\n",
       "      <th>4</th>\n",
       "      <td>nome</td>\n",
       "      <td>64.5011</td>\n",
       "      <td>-165.4064</td>\n",
       "      <td>12.27</td>\n",
       "      <td>92</td>\n",
       "      <td>100</td>\n",
       "      <td>0.00</td>\n",
       "      <td>US</td>\n",
       "      <td>1675551094</td>\n",
       "    </tr>\n",
       "    <tr>\n",
       "      <th>7</th>\n",
       "      <td>tasiilaq</td>\n",
       "      <td>65.6145</td>\n",
       "      <td>-37.6368</td>\n",
       "      <td>24.96</td>\n",
       "      <td>88</td>\n",
       "      <td>100</td>\n",
       "      <td>25.66</td>\n",
       "      <td>GL</td>\n",
       "      <td>1675551206</td>\n",
       "    </tr>\n",
       "  </tbody>\n",
       "</table>\n",
       "</div>"
      ],
      "text/plain": [
       "                   City      Lat       Lng  Max Temp  Humidity  Cloudiness  \\\n",
       "City_ID                                                                      \n",
       "0                clovis  36.8252 -119.7029     68.67        37         100   \n",
       "2        severo-kurilsk  50.6789  156.1250     27.32        72         100   \n",
       "3                lompoc  34.6391 -120.4579     69.94        73          40   \n",
       "4                  nome  64.5011 -165.4064     12.27        92         100   \n",
       "7              tasiilaq  65.6145  -37.6368     24.96        88         100   \n",
       "\n",
       "         Wind Speed Country        Date  \n",
       "City_ID                                  \n",
       "0             11.50      US  1675551206  \n",
       "2              5.86      RU  1675551174  \n",
       "3              9.22      US  1675551207  \n",
       "4              0.00      US  1675551094  \n",
       "7             25.66      GL  1675551206  "
      ]
     },
     "execution_count": 63,
     "metadata": {},
     "output_type": "execute_result"
    }
   ],
   "source": [
    "# Create a DataFrame with the Northern Hemisphere data (Latitude >= 0)\n",
    "# YOUR CODE HERE\n",
    "northern_hemi_df = city_data_df.loc[city_data_df[\"Lat\"] >= 0]\n",
    "\n",
    "# Display sample data\n",
    "northern_hemi_df.head()"
   ]
  },
  {
   "cell_type": "code",
   "execution_count": 64,
   "metadata": {},
   "outputs": [
    {
     "data": {
      "text/html": [
       "<div>\n",
       "<style scoped>\n",
       "    .dataframe tbody tr th:only-of-type {\n",
       "        vertical-align: middle;\n",
       "    }\n",
       "\n",
       "    .dataframe tbody tr th {\n",
       "        vertical-align: top;\n",
       "    }\n",
       "\n",
       "    .dataframe thead th {\n",
       "        text-align: right;\n",
       "    }\n",
       "</style>\n",
       "<table border=\"1\" class=\"dataframe\">\n",
       "  <thead>\n",
       "    <tr style=\"text-align: right;\">\n",
       "      <th></th>\n",
       "      <th>City</th>\n",
       "      <th>Lat</th>\n",
       "      <th>Lng</th>\n",
       "      <th>Max Temp</th>\n",
       "      <th>Humidity</th>\n",
       "      <th>Cloudiness</th>\n",
       "      <th>Wind Speed</th>\n",
       "      <th>Country</th>\n",
       "      <th>Date</th>\n",
       "    </tr>\n",
       "    <tr>\n",
       "      <th>City_ID</th>\n",
       "      <th></th>\n",
       "      <th></th>\n",
       "      <th></th>\n",
       "      <th></th>\n",
       "      <th></th>\n",
       "      <th></th>\n",
       "      <th></th>\n",
       "      <th></th>\n",
       "      <th></th>\n",
       "    </tr>\n",
       "  </thead>\n",
       "  <tbody>\n",
       "    <tr>\n",
       "      <th>1</th>\n",
       "      <td>mount gambier</td>\n",
       "      <td>-37.8333</td>\n",
       "      <td>140.7667</td>\n",
       "      <td>59.36</td>\n",
       "      <td>72</td>\n",
       "      <td>100</td>\n",
       "      <td>3.87</td>\n",
       "      <td>AU</td>\n",
       "      <td>1675551206</td>\n",
       "    </tr>\n",
       "    <tr>\n",
       "      <th>5</th>\n",
       "      <td>codo</td>\n",
       "      <td>-4.4553</td>\n",
       "      <td>-43.8856</td>\n",
       "      <td>76.55</td>\n",
       "      <td>81</td>\n",
       "      <td>87</td>\n",
       "      <td>3.69</td>\n",
       "      <td>BR</td>\n",
       "      <td>1675551212</td>\n",
       "    </tr>\n",
       "    <tr>\n",
       "      <th>6</th>\n",
       "      <td>coxim</td>\n",
       "      <td>-18.5067</td>\n",
       "      <td>-54.7600</td>\n",
       "      <td>77.04</td>\n",
       "      <td>84</td>\n",
       "      <td>89</td>\n",
       "      <td>2.08</td>\n",
       "      <td>BR</td>\n",
       "      <td>1675551212</td>\n",
       "    </tr>\n",
       "    <tr>\n",
       "      <th>8</th>\n",
       "      <td>bluff</td>\n",
       "      <td>-46.6000</td>\n",
       "      <td>168.3333</td>\n",
       "      <td>62.46</td>\n",
       "      <td>90</td>\n",
       "      <td>100</td>\n",
       "      <td>13.98</td>\n",
       "      <td>NZ</td>\n",
       "      <td>1675551213</td>\n",
       "    </tr>\n",
       "    <tr>\n",
       "      <th>9</th>\n",
       "      <td>vaini</td>\n",
       "      <td>-21.2000</td>\n",
       "      <td>-175.2000</td>\n",
       "      <td>80.76</td>\n",
       "      <td>94</td>\n",
       "      <td>75</td>\n",
       "      <td>18.41</td>\n",
       "      <td>TO</td>\n",
       "      <td>1675551213</td>\n",
       "    </tr>\n",
       "  </tbody>\n",
       "</table>\n",
       "</div>"
      ],
      "text/plain": [
       "                  City      Lat       Lng  Max Temp  Humidity  Cloudiness  \\\n",
       "City_ID                                                                     \n",
       "1        mount gambier -37.8333  140.7667     59.36        72         100   \n",
       "5                 codo  -4.4553  -43.8856     76.55        81          87   \n",
       "6                coxim -18.5067  -54.7600     77.04        84          89   \n",
       "8                bluff -46.6000  168.3333     62.46        90         100   \n",
       "9                vaini -21.2000 -175.2000     80.76        94          75   \n",
       "\n",
       "         Wind Speed Country        Date  \n",
       "City_ID                                  \n",
       "1              3.87      AU  1675551206  \n",
       "5              3.69      BR  1675551212  \n",
       "6              2.08      BR  1675551212  \n",
       "8             13.98      NZ  1675551213  \n",
       "9             18.41      TO  1675551213  "
      ]
     },
     "execution_count": 64,
     "metadata": {},
     "output_type": "execute_result"
    }
   ],
   "source": [
    "# Create a DataFrame with the Southern Hemisphere data (Latitude < 0)\n",
    "# YOUR CODE HERE\n",
    "southern_hemi_df = city_data_df.loc[city_data_df[\"Lat\"] < 0]\n",
    "# Display sample data\n",
    "southern_hemi_df.head()"
   ]
  },
  {
   "cell_type": "markdown",
   "metadata": {},
   "source": [
    "###  Temperature vs. Latitude Linear Regression Plot"
   ]
  },
  {
   "cell_type": "code",
   "execution_count": null,
   "metadata": {},
   "outputs": [],
   "source": [
    "# Linear regression on Northern Hemisphere\n",
    "# YOUR CODE HERE"
   ]
  },
  {
   "cell_type": "code",
   "execution_count": 69,
   "metadata": {},
   "outputs": [
    {
     "name": "stdout",
     "output_type": "stream",
     "text": [
      "The r-value is: 0.7199316618379514\n"
     ]
    },
    {
     "data": {
      "image/png": "[encoded data removed]",
      "text/plain": [
       "<Figure size 432x288 with 1 Axes>"
      ]
     },
     "metadata": {
      "needs_background": "light"
     },
     "output_type": "display_data"
    }
   ],
   "source": [
    "x_values = northern_hemi_df['Lat']\n",
    "y_values = northern_hemi_df['Max Temp']\n",
    "(slope, intercept, rvalue, pvalue, stderr) = linregress(x_values, y_values)\n",
    "regress_values = x_values * slope + intercept\n",
    "line_eq = \"y = \" + str(round(slope,2)) + \"x + \" + str(round(intercept,2))\n",
    "plt.scatter(x_values,y_values)\n",
    "plt.plot(x_values,regress_values,\"r-\")\n",
    "plt.annotate(line_eq,(5.8,0.8),fontsize=15,color=\"red\")\n",
    "plt.xlabel('Latitude')\n",
    "plt.ylabel('Max Temp')\n",
    "print(f\"The r-value is: {rvalue**2}\")\n",
    "\n",
    "plt.show()"
   ]
  },
  {
   "cell_type": "code",
   "execution_count": null,
   "metadata": {},
   "outputs": [],
   "source": [
    "# Linear regression on Southern Hemisphere\n",
    "# YOUR CODE HERE"
   ]
  },
  {
   "cell_type": "code",
   "execution_count": 70,
   "metadata": {},
   "outputs": [
    {
     "name": "stdout",
     "output_type": "stream",
     "text": [
      "The r-value is: 0.17827697396059847\n"
     ]
    },
    {
     "data": {
      "image/png": "[encoded data removed]",
      "text/plain": [
       "<Figure size 432x288 with 1 Axes>"
      ]
     },
     "metadata": {
      "needs_background": "light"
     },
     "output_type": "display_data"
    }
   ],
   "source": [
    "x_values = southern_hemi_df['Lat']\n",
    "y_values = southern_hemi_df['Max Temp']\n",
    "(slope, intercept, rvalue, pvalue, stderr) = linregress(x_values, y_values)\n",
    "regress_values = x_values * slope + intercept\n",
    "line_eq = \"y = \" + str(round(slope,2)) + \"x + \" + str(round(intercept,2))\n",
    "plt.scatter(x_values,y_values)\n",
    "plt.plot(x_values,regress_values,\"r-\")\n",
    "plt.annotate(line_eq,(5.8,0.8),fontsize=15,color=\"red\")\n",
    "plt.xlabel('Latitude')\n",
    "plt.ylabel('Max Temp')\n",
    "print(f\"The r-value is: {rvalue**2}\")\n",
    "\n",
    "plt.show()"
   ]
  },
  {
   "cell_type": "markdown",
   "metadata": {},
   "source": [
    "**Discussion about the linear relationship:** YOUR RESPONSE HERE"
   ]
  },
  {
   "cell_type": "markdown",
   "metadata": {},
   "source": [
    "### Humidity vs. Latitude Linear Regression Plot"
   ]
  },
  {
   "cell_type": "code",
   "execution_count": null,
   "metadata": {},
   "outputs": [],
   "source": [
    "# Northern Hemisphere\n",
    "# YOUR CODE HERE"
   ]
  },
  {
   "cell_type": "code",
   "execution_count": 71,
   "metadata": {},
   "outputs": [
    {
     "name": "stdout",
     "output_type": "stream",
     "text": [
      "The r-value is: 0.16372891339215206\n"
     ]
    },
    {
     "data": {
      "image/png": "[encoded data removed]",
      "text/plain": [
       "<Figure size 432x288 with 1 Axes>"
      ]
     },
     "metadata": {
      "needs_background": "light"
     },
     "output_type": "display_data"
    }
   ],
   "source": [
    "x_values = northern_hemi_df['Lat']\n",
    "y_values = northern_hemi_df['Humidity']\n",
    "(slope, intercept, rvalue, pvalue, stderr) = linregress(x_values, y_values)\n",
    "regress_values = x_values * slope + intercept\n",
    "line_eq = \"y = \" + str(round(slope,2)) + \"x + \" + str(round(intercept,2))\n",
    "plt.scatter(x_values,y_values)\n",
    "plt.plot(x_values,regress_values,\"r-\")\n",
    "plt.annotate(line_eq,(5.8,0.8),fontsize=15,color=\"red\")\n",
    "plt.xlabel('Latitude')\n",
    "plt.ylabel('Humidity')\n",
    "print(f\"The r-value is: {rvalue**2}\")\n",
    "\n",
    "plt.show()"
   ]
  },
  {
   "cell_type": "code",
   "execution_count": null,
   "metadata": {},
   "outputs": [],
   "source": [
    "# Southern Hemisphere\n",
    "# YOUR CODE HERE"
   ]
  },
  {
   "cell_type": "code",
   "execution_count": 72,
   "metadata": {},
   "outputs": [
    {
     "name": "stdout",
     "output_type": "stream",
     "text": [
      "The r-value is: 0.15516893482215555\n"
     ]
    },
    {
     "data": {
      "image/png": "[encoded data removed]",
      "text/plain": [
       "<Figure size 432x288 with 1 Axes>"
      ]
     },
     "metadata": {
      "needs_background": "light"
     },
     "output_type": "display_data"
    }
   ],
   "source": [
    "x_values = southern_hemi_df['Lat']\n",
    "y_values = southern_hemi_df['Humidity']\n",
    "(slope, intercept, rvalue, pvalue, stderr) = linregress(x_values, y_values)\n",
    "regress_values = x_values * slope + intercept\n",
    "line_eq = \"y = \" + str(round(slope,2)) + \"x + \" + str(round(intercept,2))\n",
    "plt.scatter(x_values,y_values)\n",
    "plt.plot(x_values,regress_values,\"r-\")\n",
    "plt.annotate(line_eq,(5.8,0.8),fontsize=15,color=\"red\")\n",
    "plt.xlabel('Latitude')\n",
    "plt.ylabel('Humidity')\n",
    "print(f\"The r-value is: {rvalue**2}\")\n",
    "\n",
    "plt.show()"
   ]
  },
  {
   "cell_type": "markdown",
   "metadata": {},
   "source": [
    "**Discussion about the linear relationship:** YOUR RESPONSE HERE"
   ]
  },
  {
   "cell_type": "markdown",
   "metadata": {},
   "source": [
    "### Cloudiness vs. Latitude Linear Regression Plot"
   ]
  },
  {
   "cell_type": "code",
   "execution_count": null,
   "metadata": {},
   "outputs": [],
   "source": [
    "# Northern Hemisphere\n",
    "# YOUR CODE HERE"
   ]
  },
  {
   "cell_type": "code",
   "execution_count": 76,
   "metadata": {},
   "outputs": [
    {
     "name": "stdout",
     "output_type": "stream",
     "text": [
      "The r-value is: 0.0689144118350287\n"
     ]
    },
    {
     "data": {
      "image/png": "[encoded data removed]",
      "text/plain": [
       "<Figure size 432x288 with 1 Axes>"
      ]
     },
     "metadata": {
      "needs_background": "light"
     },
     "output_type": "display_data"
    }
   ],
   "source": [
    "x_values = northern_hemi_df['Lat']\n",
    "y_values = northern_hemi_df['Cloudiness']\n",
    "(slope, intercept, rvalue, pvalue, stderr) = linregress(x_values, y_values)\n",
    "regress_values = x_values * slope + intercept\n",
    "line_eq = \"y = \" + str(round(slope,2)) + \"x + \" + str(round(intercept,2))\n",
    "plt.scatter(x_values,y_values)\n",
    "plt.plot(x_values,regress_values,\"r-\")\n",
    "plt.annotate(line_eq,(45,10),fontsize=15,color=\"red\")\n",
    "plt.xlabel('Latitude')\n",
    "plt.ylabel('Cloudiness')\n",
    "print(f\"The r-value is: {rvalue**2}\")\n",
    "\n",
    "plt.show()"
   ]
  },
  {
   "cell_type": "code",
   "execution_count": null,
   "metadata": {},
   "outputs": [],
   "source": [
    "# Southern Hemisphere\n",
    "# YOUR CODE HERE"
   ]
  },
  {
   "cell_type": "code",
   "execution_count": 77,
   "metadata": {},
   "outputs": [
    {
     "name": "stdout",
     "output_type": "stream",
     "text": [
      "The r-value is: 0.08044648009527056\n"
     ]
    },
    {
     "data": {
      "image/png": "[encoded data removed]",
      "text/plain": [
       "<Figure size 432x288 with 1 Axes>"
      ]
     },
     "metadata": {
      "needs_background": "light"
     },
     "output_type": "display_data"
    }
   ],
   "source": [
    "x_values = southern_hemi_df['Lat']\n",
    "y_values = southern_hemi_df['Cloudiness']\n",
    "(slope, intercept, rvalue, pvalue, stderr) = linregress(x_values, y_values)\n",
    "regress_values = x_values * slope + intercept\n",
    "line_eq = \"y = \" + str(round(slope,2)) + \"x + \" + str(round(intercept,2))\n",
    "plt.scatter(x_values,y_values)\n",
    "plt.plot(x_values,regress_values,\"r-\")\n",
    "plt.annotate(line_eq,(45,10),fontsize=15,color=\"red\")\n",
    "plt.xlabel('Latitude')\n",
    "plt.ylabel('Cloudiness')\n",
    "print(f\"The r-value is: {rvalue**2}\")\n",
    "\n",
    "plt.show()"
   ]
  },
  {
   "cell_type": "markdown",
   "metadata": {},
   "source": [
    "**Discussion about the linear relationship:** YOUR RESPONSE HERE"
   ]
  },
  {
   "cell_type": "markdown",
   "metadata": {},
   "source": [
    "### Wind Speed vs. Latitude Linear Regression Plot"
   ]
  },
  {
   "cell_type": "code",
   "execution_count": null,
   "metadata": {},
   "outputs": [],
   "source": [
    "# Northern Hemisphere\n",
    "# YOUR CODE HERE"
   ]
  },
  {
   "cell_type": "code",
   "execution_count": 81,
   "metadata": {},
   "outputs": [
    {
     "name": "stdout",
     "output_type": "stream",
     "text": [
      "The r-value is: 0.00022227880917482747\n"
     ]
    },
    {
     "data": {
      "image/png": "[encoded data removed]",
      "text/plain": [
       "<Figure size 432x288 with 1 Axes>"
      ]
     },
     "metadata": {
      "needs_background": "light"
     },
     "output_type": "display_data"
    }
   ],
   "source": [
    "x_values = northern_hemi_df['Lat']\n",
    "y_values = northern_hemi_df['Wind Speed']\n",
    "(slope, intercept, rvalue, pvalue, stderr) = linregress(x_values, y_values)\n",
    "regress_values = x_values * slope + intercept\n",
    "line_eq = \"y = \" + str(round(slope,2)) + \"x + \" + str(round(intercept,2))\n",
    "plt.scatter(x_values,y_values)\n",
    "plt.plot(x_values,regress_values,\"r-\")\n",
    "plt.annotate(line_eq,(10,40),fontsize=15,color=\"red\")\n",
    "plt.xlabel('Latitude')\n",
    "plt.ylabel('Wind Speed')\n",
    "print(f\"The r-value is: {rvalue**2}\")\n",
    "\n",
    "plt.show()"
   ]
  },
  {
   "cell_type": "code",
   "execution_count": null,
   "metadata": {},
   "outputs": [],
   "source": [
    "# Southern Hemisphere\n",
    "# YOUR CODE HERE"
   ]
  },
  {
   "cell_type": "code",
   "execution_count": 80,
   "metadata": {},
   "outputs": [
    {
     "name": "stdout",
     "output_type": "stream",
     "text": [
      "The r-value is: 0.04626857620755203\n"
     ]
    },
    {
     "data": {
      "image/png": "[encoded data removed]",
      "text/plain": [
       "<Figure size 432x288 with 1 Axes>"
      ]
     },
     "metadata": {
      "needs_background": "light"
     },
     "output_type": "display_data"
    }
   ],
   "source": [
    "x_values = southern_hemi_df['Lat']\n",
    "y_values = southern_hemi_df['Wind Speed']\n",
    "(slope, intercept, rvalue, pvalue, stderr) = linregress(x_values, y_values)\n",
    "regress_values = x_values * slope + intercept\n",
    "line_eq = \"y = \" + str(round(slope,2)) + \"x + \" + str(round(intercept,2))\n",
    "plt.scatter(x_values,y_values)\n",
    "plt.plot(x_values,regress_values,\"r-\")\n",
    "plt.annotate(line_eq,(45,10),fontsize=15,color=\"red\")\n",
    "plt.xlabel('Latitude')\n",
    "plt.ylabel('Wind Speed')\n",
    "print(f\"The r-value is: {rvalue**2}\")\n",
    "\n",
    "plt.show()"
   ]
  },
  {
   "cell_type": "markdown",
   "metadata": {},
   "source": [
    "**Discussion about the linear relationship:** YOUR RESPONSE HERE"
   ]
  },
  {
   "cell_type": "code",
   "execution_count": null,
   "metadata": {},
   "outputs": [],
   "source": []
  }
 ],
 "metadata": {
  "anaconda-cloud": {},
  "kernel_info": {
   "name": "python3"
  },
  "kernelspec": {
   "display_name": "Python 3 (ipykernel)",
   "language": "python",
   "name": "python3"
  },
  "language_info": {
   "codemirror_mode": {
    "name": "ipython",
    "version": 3
   },
   "file_extension": ".py",
   "mimetype": "text/x-python",
   "name": "python",
   "nbconvert_exporter": "python",
   "pygments_lexer": "ipython3",
   "version": "3.7.7"
  },
  "latex_envs": {
   "LaTeX_envs_menu_present": true,
   "autoclose": false,
   "autocomplete": true,
   "bibliofile": "biblio.bib",
   "cite_by": "apalike",
   "current_citInitial": 1,
   "eqLabelWithNumbers": true,
   "eqNumInitial": 1,
   "hotkeys": {
    "equation": "Ctrl-E",
    "itemize": "Ctrl-I"
   },
   "labels_anchors": false,
   "latex_user_defs": false,
   "report_style_numbering": false,
   "user_envs_cfg": false
  },
  "nteract": {
   "version": "0.12.3"
  }
 },
 "nbformat": 4,
 "nbformat_minor": 4
}
