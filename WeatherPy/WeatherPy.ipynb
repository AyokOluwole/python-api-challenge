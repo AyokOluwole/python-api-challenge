{
 "cells": [
  {
   "cell_type": "markdown",
   "metadata": {},
   "source": [
    "# WeatherPy\n",
    "\n",
    "---\n",
    "\n",
    "## Starter Code to Generate Random Geographic Coordinates and a List of Cities"
   ]
  },
  {
   "cell_type": "code",
   "execution_count": 1,
   "metadata": {
    "scrolled": true
   },
   "outputs": [],
   "source": [
    "# Dependencies and Setup\n",
    "import matplotlib.pyplot as plt\n",
    "import pandas as pd\n",
    "import numpy as np\n",
    "import requests\n",
    "import time\n",
    "from scipy.stats import linregress\n",
    "\n",
    "# Impor the OpenWeatherMap API key\n",
    "from api_keys import weather_api_key\n",
    "\n",
    "# Import citipy to determine the cities based on latitude and longitude\n",
    "from citipy import citipy"
   ]
  },
  {
   "cell_type": "code",
   "execution_count": 2,
   "metadata": {},
   "outputs": [],
   "source": [
    "output_data_file = \"../output_data/cities.csv\""
   ]
  },
  {
   "cell_type": "markdown",
   "metadata": {},
   "source": [
    "### Generate the Cities List by Using the `citipy` Library"
   ]
  },
  {
   "cell_type": "code",
   "execution_count": 3,
   "metadata": {},
   "outputs": [
    {
     "name": "stdout",
     "output_type": "stream",
     "text": [
      "Number of cities in the list: 579\n"
     ]
    }
   ],
   "source": [
    "# Empty list for holding the latitude and longitude combinations\n",
    "lat_lngs = []\n",
    "\n",
    "# Empty list for holding the cities names\n",
    "cities = []\n",
    "\n",
    "# Range of latitudes and longitudes\n",
    "lat_range = (-90, 90)\n",
    "lng_range = (-180, 180)\n",
    "\n",
    "# Create a set of random lat and lng combinations\n",
    "lats = np.random.uniform(lat_range[0], lat_range[1], size=1500)\n",
    "lngs = np.random.uniform(lng_range[0], lng_range[1], size=1500)\n",
    "lat_lngs = zip(lats, lngs)\n",
    "\n",
    "# Identify nearest city for each lat, lng combination\n",
    "for lat_lng in lat_lngs:\n",
    "    city = citipy.nearest_city(lat_lng[0], lat_lng[1]).city_name\n",
    "    \n",
    "    # If the city is unique, then add it to a our cities list\n",
    "    if city not in cities:\n",
    "        cities.append(city)\n",
    "\n",
    "# Print the city count to confirm sufficient count\n",
    "print(f\"Number of cities in the list: {len(cities)}\")"
   ]
  },
  {
   "cell_type": "markdown",
   "metadata": {},
   "source": [
    "---"
   ]
  },
  {
   "cell_type": "markdown",
   "metadata": {},
   "source": [
    "## Requirement 1: Create Plots to Showcase the Relationship Between Weather Variables and Latitude\n",
    "\n",
    "### Use the OpenWeatherMap API to retrieve weather data from the cities list generated in the started code"
   ]
  },
  {
   "cell_type": "code",
   "execution_count": 4,
   "metadata": {},
   "outputs": [
    {
     "name": "stdout",
     "output_type": "stream",
     "text": [
      "Beginning Data Retrieval     \n",
      "-----------------------------\n",
      "Processing Record 1 of Set 1 | luderitz\n",
      "Processing Record 2 of Set 1 | avera\n",
      "Processing Record 3 of Set 1 | la rioja\n",
      "Processing Record 4 of Set 1 | ancud\n",
      "Processing Record 5 of Set 1 | tumannyy\n",
      "City not found. Skipping...\n",
      "Processing Record 6 of Set 1 | manta\n",
      "Processing Record 7 of Set 1 | klyuchi\n",
      "Processing Record 8 of Set 1 | port blair\n",
      "Processing Record 9 of Set 1 | mangan\n",
      "Processing Record 10 of Set 1 | hobart\n",
      "Processing Record 11 of Set 1 | thunder bay\n",
      "Processing Record 12 of Set 1 | lolua\n",
      "City not found. Skipping...\n",
      "Processing Record 13 of Set 1 | gorno-chuyskiy\n",
      "City not found. Skipping...\n",
      "Processing Record 14 of Set 1 | albany\n",
      "Processing Record 15 of Set 1 | new norfolk\n",
      "Processing Record 16 of Set 1 | tasiilaq\n",
      "Processing Record 17 of Set 1 | grand river south east\n",
      "City not found. Skipping...\n",
      "Processing Record 18 of Set 1 | leningradskiy\n",
      "Processing Record 19 of Set 1 | male\n",
      "Processing Record 20 of Set 1 | ushuaia\n",
      "Processing Record 21 of Set 1 | rikitea\n",
      "Processing Record 22 of Set 1 | bria\n",
      "Processing Record 23 of Set 1 | pevek\n",
      "Processing Record 24 of Set 1 | klaksvik\n",
      "Processing Record 25 of Set 1 | dingli\n",
      "Processing Record 26 of Set 1 | port alfred\n",
      "Processing Record 27 of Set 1 | tuatapere\n",
      "Processing Record 28 of Set 1 | hithadhoo\n",
      "Processing Record 29 of Set 1 | novokayakent\n",
      "Processing Record 30 of Set 1 | tuktoyaktuk\n",
      "Processing Record 31 of Set 1 | yerbogachen\n",
      "Processing Record 32 of Set 1 | butaritari\n",
      "Processing Record 33 of Set 1 | carnarvon\n",
      "Processing Record 34 of Set 1 | coos bay\n",
      "Processing Record 35 of Set 1 | kapaa\n",
      "Processing Record 36 of Set 1 | georgetown\n",
      "Processing Record 37 of Set 1 | vaini\n",
      "Processing Record 38 of Set 1 | asfi\n",
      "Processing Record 39 of Set 1 | broome\n",
      "Processing Record 40 of Set 1 | pisco\n",
      "Processing Record 41 of Set 1 | sao joao da barra\n",
      "Processing Record 42 of Set 1 | miri\n",
      "Processing Record 43 of Set 1 | asau\n",
      "Processing Record 44 of Set 1 | caramay\n",
      "Processing Record 45 of Set 1 | palabuhanratu\n",
      "City not found. Skipping...\n",
      "Processing Record 46 of Set 1 | fairbanks\n",
      "Processing Record 47 of Set 1 | kisangani\n",
      "Processing Record 48 of Set 1 | prince rupert\n",
      "Processing Record 49 of Set 1 | santa lucia\n",
      "Processing Record 50 of Set 1 | hermanus\n",
      "Processing Record 0 of Set 2 | hasaki\n",
      "Processing Record 1 of Set 2 | yumen\n",
      "Processing Record 2 of Set 2 | hilo\n",
      "Processing Record 3 of Set 2 | ikornnes\n",
      "Processing Record 4 of Set 2 | bredasdorp\n",
      "Processing Record 5 of Set 2 | barrow\n",
      "Processing Record 6 of Set 2 | paamiut\n",
      "Processing Record 7 of Set 2 | cidreira\n",
      "Processing Record 8 of Set 2 | cabo san lucas\n",
      "Processing Record 9 of Set 2 | yellowknife\n",
      "Processing Record 10 of Set 2 | najran\n",
      "Processing Record 11 of Set 2 | husavik\n",
      "Processing Record 12 of Set 2 | guerrero\n",
      "Processing Record 13 of Set 2 | faanui\n",
      "Processing Record 14 of Set 2 | los llanos de aridane\n",
      "Processing Record 15 of Set 2 | bluff\n",
      "Processing Record 16 of Set 2 | linxia\n",
      "Processing Record 17 of Set 2 | mahebourg\n",
      "Processing Record 18 of Set 2 | dawei\n",
      "Processing Record 19 of Set 2 | caravelas\n",
      "Processing Record 20 of Set 2 | sur\n",
      "Processing Record 21 of Set 2 | mataura\n",
      "Processing Record 22 of Set 2 | nizhneyansk\n",
      "City not found. Skipping...\n",
      "Processing Record 23 of Set 2 | kazalinsk\n",
      "City not found. Skipping...\n",
      "Processing Record 24 of Set 2 | ponta do sol\n",
      "Processing Record 25 of Set 2 | saint george\n",
      "Processing Record 26 of Set 2 | lebu\n",
      "Processing Record 27 of Set 2 | amuntai\n",
      "Processing Record 28 of Set 2 | bandarbeyla\n",
      "Processing Record 29 of Set 2 | saskylakh\n",
      "Processing Record 30 of Set 2 | meyungs\n",
      "City not found. Skipping...\n",
      "Processing Record 31 of Set 2 | punta arenas\n",
      "Processing Record 32 of Set 2 | busselton\n",
      "Processing Record 33 of Set 2 | bathsheba\n",
      "Processing Record 34 of Set 2 | grindavik\n",
      "Processing Record 35 of Set 2 | yeppoon\n",
      "Processing Record 36 of Set 2 | sulphur springs\n",
      "Processing Record 37 of Set 2 | reitz\n",
      "Processing Record 38 of Set 2 | brigantine\n",
      "Processing Record 39 of Set 2 | sinkat\n",
      "City not found. Skipping...\n",
      "Processing Record 40 of Set 2 | saint-philippe\n",
      "Processing Record 41 of Set 2 | longyearbyen\n",
      "Processing Record 42 of Set 2 | coihaique\n",
      "Processing Record 43 of Set 2 | payo\n",
      "Processing Record 44 of Set 2 | port macquarie\n",
      "Processing Record 45 of Set 2 | atuona\n",
      "Processing Record 46 of Set 2 | ilulissat\n",
      "Processing Record 47 of Set 2 | port elizabeth\n",
      "Processing Record 48 of Set 2 | george town\n",
      "Processing Record 49 of Set 2 | kadipaten\n",
      "Processing Record 0 of Set 3 | varberg\n",
      "Processing Record 1 of Set 3 | yingcheng\n",
      "Processing Record 2 of Set 3 | kuah\n",
      "Processing Record 3 of Set 3 | nuuk\n",
      "Processing Record 4 of Set 3 | prieska\n",
      "Processing Record 5 of Set 3 | kodiak\n",
      "Processing Record 6 of Set 3 | nikolskoye\n",
      "Processing Record 7 of Set 3 | preston\n",
      "Processing Record 8 of Set 3 | namatanai\n",
      "Processing Record 9 of Set 3 | ornskoldsvik\n",
      "Processing Record 10 of Set 3 | khatanga\n",
      "Processing Record 11 of Set 3 | paradwip\n",
      "City not found. Skipping...\n",
      "Processing Record 12 of Set 3 | shenjiamen\n",
      "Processing Record 13 of Set 3 | bethel\n",
      "Processing Record 14 of Set 3 | esperance\n",
      "Processing Record 15 of Set 3 | krabi\n",
      "Processing Record 16 of Set 3 | lira\n",
      "Processing Record 17 of Set 3 | srednekolymsk\n",
      "Processing Record 18 of Set 3 | eyl\n",
      "Processing Record 19 of Set 3 | belushya guba\n",
      "City not found. Skipping...\n",
      "Processing Record 20 of Set 3 | puerto ayora\n",
      "Processing Record 21 of Set 3 | cabedelo\n",
      "Processing Record 22 of Set 3 | saldanha\n",
      "Processing Record 23 of Set 3 | guerrero negro\n",
      "Processing Record 24 of Set 3 | uyuni\n",
      "Processing Record 25 of Set 3 | teguise\n",
      "Processing Record 26 of Set 3 | cairns\n",
      "Processing Record 27 of Set 3 | rio negro\n",
      "Processing Record 28 of Set 3 | high level\n",
      "Processing Record 29 of Set 3 | thompson\n",
      "Processing Record 30 of Set 3 | lavrentiya\n",
      "Processing Record 31 of Set 3 | castro\n",
      "Processing Record 32 of Set 3 | cadillac\n",
      "Processing Record 33 of Set 3 | cocal\n",
      "Processing Record 34 of Set 3 | alice springs\n",
      "Processing Record 35 of Set 3 | faya\n",
      "Processing Record 36 of Set 3 | norman wells\n",
      "Processing Record 37 of Set 3 | talcahuano\n",
      "Processing Record 38 of Set 3 | dibaya\n",
      "City not found. Skipping...\n",
      "Processing Record 39 of Set 3 | tiksi\n",
      "Processing Record 40 of Set 3 | alamogordo\n",
      "Processing Record 41 of Set 3 | kruisfontein\n",
      "Processing Record 42 of Set 3 | chuy\n",
      "Processing Record 43 of Set 3 | nouakchott\n",
      "Processing Record 44 of Set 3 | tsihombe\n",
      "City not found. Skipping...\n",
      "Processing Record 45 of Set 3 | launceston\n",
      "Processing Record 46 of Set 3 | cherat\n",
      "Processing Record 47 of Set 3 | vila\n",
      "Processing Record 48 of Set 3 | clyde river\n",
      "Processing Record 49 of Set 3 | victor harbor\n",
      "Processing Record 0 of Set 4 | puerto colombia\n",
      "Processing Record 1 of Set 4 | souillac\n",
      "Processing Record 2 of Set 4 | tilichiki\n",
      "Processing Record 3 of Set 4 | ledyard\n",
      "Processing Record 4 of Set 4 | jiehu\n",
      "Processing Record 5 of Set 4 | imeni zhelyabova\n",
      "Processing Record 6 of Set 4 | padang\n",
      "Processing Record 7 of Set 4 | chulman\n",
      "Processing Record 8 of Set 4 | provideniya\n",
      "Processing Record 9 of Set 4 | kyle of lochalsh\n",
      "City not found. Skipping...\n",
      "Processing Record 10 of Set 4 | banda aceh\n",
      "Processing Record 11 of Set 4 | yuli\n",
      "Processing Record 12 of Set 4 | cape town\n",
      "Processing Record 13 of Set 4 | watsa\n",
      "Processing Record 14 of Set 4 | dale\n",
      "Processing Record 15 of Set 4 | constitucion\n",
      "Processing Record 16 of Set 4 | arraial do cabo\n",
      "Processing Record 17 of Set 4 | mys shmidta\n",
      "City not found. Skipping...\n",
      "Processing Record 18 of Set 4 | tarbes\n",
      "Processing Record 19 of Set 4 | muzhi\n",
      "Processing Record 20 of Set 4 | lima\n",
      "Processing Record 21 of Set 4 | sung noen\n",
      "Processing Record 22 of Set 4 | oksbol\n",
      "Processing Record 23 of Set 4 | san-pedro\n",
      "Processing Record 24 of Set 4 | gogrial\n",
      "Processing Record 25 of Set 4 | thaba nchu\n",
      "Processing Record 26 of Set 4 | avarua\n",
      "Processing Record 27 of Set 4 | kushmurun\n",
      "Processing Record 28 of Set 4 | ocampo\n",
      "Processing Record 29 of Set 4 | amderma\n",
      "City not found. Skipping...\n",
      "Processing Record 30 of Set 4 | taolanaro\n",
      "City not found. Skipping...\n",
      "Processing Record 31 of Set 4 | grinnell\n",
      "Processing Record 32 of Set 4 | lorengau\n",
      "Processing Record 33 of Set 4 | pali\n",
      "Processing Record 34 of Set 4 | tual\n",
      "Processing Record 35 of Set 4 | qaanaaq\n"
     ]
    },
    {
     "name": "stdout",
     "output_type": "stream",
     "text": [
      "Processing Record 36 of Set 4 | umm kaddadah\n",
      "Processing Record 37 of Set 4 | caetite\n",
      "Processing Record 38 of Set 4 | dikson\n",
      "Processing Record 39 of Set 4 | boli\n",
      "Processing Record 40 of Set 4 | dicabisagan\n",
      "Processing Record 41 of Set 4 | komsomolskiy\n",
      "Processing Record 42 of Set 4 | montorio al vomano\n",
      "Processing Record 43 of Set 4 | ribeira grande\n",
      "Processing Record 44 of Set 4 | kauhajoki\n",
      "Processing Record 45 of Set 4 | east london\n",
      "Processing Record 46 of Set 4 | vaghodia\n",
      "Processing Record 47 of Set 4 | fortuna\n",
      "Processing Record 48 of Set 4 | mikhaylovka\n",
      "Processing Record 49 of Set 4 | mokrous\n",
      "Processing Record 0 of Set 5 | kristiinankaupunki\n",
      "Processing Record 1 of Set 5 | airai\n",
      "Processing Record 2 of Set 5 | bambous virieux\n",
      "Processing Record 3 of Set 5 | nyaunglebin\n",
      "Processing Record 4 of Set 5 | jamestown\n",
      "Processing Record 5 of Set 5 | barentsburg\n",
      "City not found. Skipping...\n",
      "Processing Record 6 of Set 5 | rafsanjan\n",
      "Processing Record 7 of Set 5 | karakendzha\n",
      "City not found. Skipping...\n",
      "Processing Record 8 of Set 5 | talnakh\n",
      "Processing Record 9 of Set 5 | margate\n",
      "Processing Record 10 of Set 5 | chokurdakh\n",
      "Processing Record 11 of Set 5 | fayaoue\n",
      "Processing Record 12 of Set 5 | palauig\n",
      "Processing Record 13 of Set 5 | saleaula\n",
      "City not found. Skipping...\n",
      "Processing Record 14 of Set 5 | omsukchan\n",
      "Processing Record 15 of Set 5 | gambo\n",
      "Processing Record 16 of Set 5 | birjand\n",
      "Processing Record 17 of Set 5 | kamenskoye\n",
      "City not found. Skipping...\n",
      "Processing Record 18 of Set 5 | rungata\n",
      "City not found. Skipping...\n",
      "Processing Record 19 of Set 5 | hellvik\n",
      "Processing Record 20 of Set 5 | san quintin\n",
      "Processing Record 21 of Set 5 | kamenka\n",
      "Processing Record 22 of Set 5 | bac lieu\n",
      "Processing Record 23 of Set 5 | sobolevo\n",
      "Processing Record 24 of Set 5 | mar del plata\n",
      "Processing Record 25 of Set 5 | khasan\n",
      "Processing Record 26 of Set 5 | illoqqortoormiut\n",
      "City not found. Skipping...\n",
      "Processing Record 27 of Set 5 | maningrida\n",
      "Processing Record 28 of Set 5 | saquarema\n",
      "Processing Record 29 of Set 5 | narsaq\n",
      "Processing Record 30 of Set 5 | gorontalo\n",
      "Processing Record 31 of Set 5 | mount gambier\n",
      "Processing Record 32 of Set 5 | porto de moz\n",
      "Processing Record 33 of Set 5 | iqaluit\n",
      "Processing Record 34 of Set 5 | naftah\n",
      "City not found. Skipping...\n",
      "Processing Record 35 of Set 5 | verkhnyaya sinyachikha\n",
      "Processing Record 36 of Set 5 | blytheville\n",
      "Processing Record 37 of Set 5 | deputatskiy\n",
      "Processing Record 38 of Set 5 | medea\n",
      "Processing Record 39 of Set 5 | svetlyy\n",
      "Processing Record 40 of Set 5 | tabuk\n",
      "Processing Record 41 of Set 5 | beira\n",
      "Processing Record 42 of Set 5 | vanimo\n",
      "Processing Record 43 of Set 5 | baykit\n",
      "Processing Record 44 of Set 5 | steamboat springs\n",
      "Processing Record 45 of Set 5 | astipalaia\n",
      "City not found. Skipping...\n",
      "Processing Record 46 of Set 5 | mananara\n",
      "Processing Record 47 of Set 5 | qui nhon\n",
      "Processing Record 48 of Set 5 | vila franca do campo\n",
      "Processing Record 49 of Set 5 | ixtapa\n",
      "Processing Record 0 of Set 6 | torbay\n",
      "Processing Record 1 of Set 6 | maltahohe\n",
      "Processing Record 2 of Set 6 | vardo\n",
      "Processing Record 3 of Set 6 | mehamn\n",
      "Processing Record 4 of Set 6 | dunedin\n",
      "Processing Record 5 of Set 6 | valle de allende\n",
      "Processing Record 6 of Set 6 | vostok\n",
      "Processing Record 7 of Set 6 | scottsburgh\n",
      "City not found. Skipping...\n",
      "Processing Record 8 of Set 6 | kaitangata\n",
      "Processing Record 9 of Set 6 | sabha\n",
      "Processing Record 10 of Set 6 | pinsk\n",
      "Processing Record 11 of Set 6 | seoul\n",
      "Processing Record 12 of Set 6 | codrington\n",
      "Processing Record 13 of Set 6 | westport\n",
      "Processing Record 14 of Set 6 | constantine\n",
      "Processing Record 15 of Set 6 | victoria\n",
      "Processing Record 16 of Set 6 | manaquiri\n",
      "Processing Record 17 of Set 6 | atocha\n",
      "Processing Record 18 of Set 6 | caiaponia\n",
      "Processing Record 19 of Set 6 | pacasmayo\n",
      "Processing Record 20 of Set 6 | dengzhou\n",
      "Processing Record 21 of Set 6 | lompoc\n",
      "Processing Record 22 of Set 6 | russell\n",
      "Processing Record 23 of Set 6 | sao filipe\n",
      "Processing Record 24 of Set 6 | havre-saint-pierre\n",
      "Processing Record 25 of Set 6 | bilma\n",
      "Processing Record 26 of Set 6 | taoudenni\n",
      "Processing Record 27 of Set 6 | antofagasta\n",
      "Processing Record 28 of Set 6 | nea kallikratia\n",
      "Processing Record 29 of Set 6 | naron\n",
      "Processing Record 30 of Set 6 | cockburn town\n",
      "Processing Record 31 of Set 6 | sabang\n",
      "Processing Record 32 of Set 6 | rio pardo de minas\n",
      "Processing Record 33 of Set 6 | buttelborn\n",
      "Processing Record 34 of Set 6 | rawson\n",
      "Processing Record 35 of Set 6 | inhambane\n",
      "Processing Record 36 of Set 6 | lasa\n",
      "Processing Record 37 of Set 6 | coolum beach\n",
      "Processing Record 38 of Set 6 | valparaiso\n",
      "Processing Record 39 of Set 6 | prijedor\n",
      "Processing Record 40 of Set 6 | la ronge\n",
      "Processing Record 41 of Set 6 | egvekinot\n",
      "Processing Record 42 of Set 6 | bose\n",
      "Processing Record 43 of Set 6 | kununurra\n",
      "Processing Record 44 of Set 6 | bossembele\n",
      "City not found. Skipping...\n",
      "Processing Record 45 of Set 6 | karratha\n",
      "Processing Record 46 of Set 6 | den helder\n",
      "Processing Record 47 of Set 6 | show low\n",
      "Processing Record 48 of Set 6 | oistins\n",
      "Processing Record 49 of Set 6 | roma\n",
      "Processing Record 0 of Set 7 | kita\n",
      "Processing Record 1 of Set 7 | ocos\n",
      "Processing Record 2 of Set 7 | puerto el triunfo\n",
      "Processing Record 3 of Set 7 | nokaneng\n",
      "Processing Record 4 of Set 7 | pincher creek\n",
      "Processing Record 5 of Set 7 | florianopolis\n",
      "Processing Record 6 of Set 7 | kattivakkam\n",
      "Processing Record 7 of Set 7 | pitimbu\n",
      "Processing Record 8 of Set 7 | moerai\n",
      "Processing Record 9 of Set 7 | upernavik\n",
      "Processing Record 10 of Set 7 | ewa beach\n",
      "Processing Record 11 of Set 7 | ilebo\n",
      "Processing Record 12 of Set 7 | chirongui\n",
      "Processing Record 13 of Set 7 | palmer\n",
      "Processing Record 14 of Set 7 | bolshoye ignatovo\n",
      "City not found. Skipping...\n",
      "Processing Record 15 of Set 7 | qaqortoq\n",
      "Processing Record 16 of Set 7 | kieta\n",
      "Processing Record 17 of Set 7 | namibe\n",
      "Processing Record 18 of Set 7 | toulepleu\n",
      "City not found. Skipping...\n",
      "Processing Record 19 of Set 7 | cherskiy\n",
      "Processing Record 20 of Set 7 | falealupo\n",
      "City not found. Skipping...\n",
      "Processing Record 21 of Set 7 | belmonte\n",
      "Processing Record 22 of Set 7 | pangnirtung\n",
      "Processing Record 23 of Set 7 | ust-nera\n",
      "Processing Record 24 of Set 7 | kpandu\n",
      "Processing Record 25 of Set 7 | green river\n",
      "Processing Record 26 of Set 7 | chernyshevskiy\n",
      "Processing Record 27 of Set 7 | adrar\n",
      "Processing Record 28 of Set 7 | mao\n",
      "Processing Record 29 of Set 7 | half moon bay\n",
      "Processing Record 30 of Set 7 | vilyuysk\n",
      "Processing Record 31 of Set 7 | sheridan\n",
      "Processing Record 32 of Set 7 | tomatlan\n",
      "Processing Record 33 of Set 7 | sentyabrskiy\n",
      "City not found. Skipping...\n",
      "Processing Record 34 of Set 7 | andros town\n",
      "Processing Record 35 of Set 7 | kajiado\n",
      "Processing Record 36 of Set 7 | turayf\n",
      "Processing Record 37 of Set 7 | umm lajj\n",
      "Processing Record 38 of Set 7 | lena\n",
      "Processing Record 39 of Set 7 | bur gabo\n",
      "City not found. Skipping...\n",
      "Processing Record 40 of Set 7 | koutsouras\n",
      "Processing Record 41 of Set 7 | vallenar\n",
      "Processing Record 42 of Set 7 | vuktyl\n",
      "Processing Record 43 of Set 7 | antropovo\n",
      "Processing Record 44 of Set 7 | nanortalik\n",
      "Processing Record 45 of Set 7 | sola\n",
      "Processing Record 46 of Set 7 | ulaangom\n",
      "Processing Record 47 of Set 7 | touros\n",
      "Processing Record 48 of Set 7 | bayji\n",
      "Processing Record 49 of Set 7 | geraldton\n",
      "Processing Record 0 of Set 8 | harper\n",
      "Processing Record 1 of Set 8 | coquimbo\n",
      "Processing Record 2 of Set 8 | naze\n",
      "Processing Record 3 of Set 8 | samusu\n",
      "City not found. Skipping...\n",
      "Processing Record 4 of Set 8 | matay\n",
      "Processing Record 5 of Set 8 | ouegoa\n",
      "Processing Record 6 of Set 8 | severo-kurilsk\n",
      "Processing Record 7 of Set 8 | roald\n",
      "Processing Record 8 of Set 8 | hamilton\n",
      "Processing Record 9 of Set 8 | marcona\n",
      "City not found. Skipping...\n",
      "Processing Record 10 of Set 8 | sataua\n",
      "City not found. Skipping...\n",
      "Processing Record 11 of Set 8 | olafsvik\n",
      "Processing Record 12 of Set 8 | akdepe\n",
      "Processing Record 13 of Set 8 | kedrovka\n",
      "Processing Record 14 of Set 8 | high prairie\n",
      "Processing Record 15 of Set 8 | kenora\n",
      "Processing Record 16 of Set 8 | grandview\n",
      "Processing Record 17 of Set 8 | porosozero\n",
      "Processing Record 18 of Set 8 | shitanjing\n",
      "Processing Record 19 of Set 8 | acajutla\n",
      "Processing Record 20 of Set 8 | lakes entrance\n",
      "Processing Record 21 of Set 8 | kumluca\n"
     ]
    },
    {
     "name": "stdout",
     "output_type": "stream",
     "text": [
      "Processing Record 22 of Set 8 | rawannawi\n",
      "City not found. Skipping...\n",
      "Processing Record 23 of Set 8 | manavalakurichi\n",
      "Processing Record 24 of Set 8 | mandalgovi\n",
      "Processing Record 25 of Set 8 | ishigaki\n",
      "Processing Record 26 of Set 8 | kysyl-syr\n",
      "Processing Record 27 of Set 8 | iguaba grande\n",
      "Processing Record 28 of Set 8 | inderborskiy\n",
      "City not found. Skipping...\n",
      "Processing Record 29 of Set 8 | kahului\n",
      "Processing Record 30 of Set 8 | pindobacu\n",
      "Processing Record 31 of Set 8 | erenhot\n",
      "Processing Record 32 of Set 8 | clarence town\n",
      "Processing Record 33 of Set 8 | vila velha\n",
      "Processing Record 34 of Set 8 | monte aprazivel\n",
      "Processing Record 35 of Set 8 | saint john\n",
      "Processing Record 36 of Set 8 | sao felix do xingu\n",
      "Processing Record 37 of Set 8 | nome\n",
      "Processing Record 38 of Set 8 | salalah\n",
      "Processing Record 39 of Set 8 | mzimba\n",
      "Processing Record 40 of Set 8 | bubaque\n",
      "Processing Record 41 of Set 8 | ekhabi\n",
      "Processing Record 42 of Set 8 | bengkulu\n",
      "Processing Record 43 of Set 8 | aizawl\n",
      "Processing Record 44 of Set 8 | lubango\n",
      "Processing Record 45 of Set 8 | coruripe\n",
      "Processing Record 46 of Set 8 | vitim\n",
      "Processing Record 47 of Set 8 | methoni\n",
      "Processing Record 48 of Set 8 | mathbaria\n",
      "Processing Record 49 of Set 8 | bokspits\n",
      "City not found. Skipping...\n",
      "Processing Record 0 of Set 9 | juegang\n",
      "Processing Record 1 of Set 9 | poniatowa\n",
      "Processing Record 2 of Set 9 | chumikan\n",
      "Processing Record 3 of Set 9 | imbituba\n",
      "Processing Record 4 of Set 9 | gunjur\n",
      "Processing Record 5 of Set 9 | rolla\n",
      "Processing Record 6 of Set 9 | tuy hoa\n",
      "Processing Record 7 of Set 9 | kulhudhuffushi\n",
      "Processing Record 8 of Set 9 | port lincoln\n",
      "Processing Record 9 of Set 9 | barquisimeto\n",
      "Processing Record 10 of Set 9 | batemans bay\n",
      "Processing Record 11 of Set 9 | bogorodskoye\n",
      "Processing Record 12 of Set 9 | severobaykalsk\n",
      "Processing Record 13 of Set 9 | domoni\n",
      "Processing Record 14 of Set 9 | nishihara\n",
      "Processing Record 15 of Set 9 | isangel\n",
      "Processing Record 16 of Set 9 | gayeri\n",
      "Processing Record 17 of Set 9 | nadym\n",
      "Processing Record 18 of Set 9 | calamar\n",
      "Processing Record 19 of Set 9 | anlu\n",
      "Processing Record 20 of Set 9 | louisbourg\n",
      "City not found. Skipping...\n",
      "Processing Record 21 of Set 9 | lincoln\n",
      "Processing Record 22 of Set 9 | hofn\n",
      "Processing Record 23 of Set 9 | nylstroom\n",
      "City not found. Skipping...\n",
      "Processing Record 24 of Set 9 | saint-georges\n",
      "Processing Record 25 of Set 9 | kibaya\n",
      "Processing Record 26 of Set 9 | marzuq\n",
      "Processing Record 27 of Set 9 | saint-francois\n",
      "Processing Record 28 of Set 9 | college\n",
      "Processing Record 29 of Set 9 | auckland\n",
      "Processing Record 30 of Set 9 | bendigo\n",
      "Processing Record 31 of Set 9 | mae ramat\n",
      "Processing Record 32 of Set 9 | yatou\n",
      "Processing Record 33 of Set 9 | santa rosalia\n",
      "Processing Record 34 of Set 9 | saint-louis\n",
      "Processing Record 35 of Set 9 | batagay-alyta\n",
      "Processing Record 36 of Set 9 | atasu\n",
      "Processing Record 37 of Set 9 | tatawin\n",
      "Processing Record 38 of Set 9 | dingle\n",
      "Processing Record 39 of Set 9 | prainha\n",
      "Processing Record 40 of Set 9 | azanka\n",
      "Processing Record 41 of Set 9 | komsomolets\n",
      "Processing Record 42 of Set 9 | hambantota\n",
      "Processing Record 43 of Set 9 | candido mendes\n",
      "Processing Record 44 of Set 9 | ahipara\n",
      "Processing Record 45 of Set 9 | vestmannaeyjar\n",
      "Processing Record 46 of Set 9 | itaqui\n",
      "Processing Record 47 of Set 9 | sitka\n",
      "Processing Record 48 of Set 9 | vidim\n",
      "Processing Record 49 of Set 9 | lagoa\n",
      "Processing Record 0 of Set 10 | alta floresta\n",
      "Processing Record 1 of Set 10 | hovd\n",
      "Processing Record 2 of Set 10 | beringovskiy\n",
      "Processing Record 3 of Set 10 | goderich\n",
      "Processing Record 4 of Set 10 | amapa\n",
      "Processing Record 5 of Set 10 | leh\n",
      "Processing Record 6 of Set 10 | bayir\n",
      "Processing Record 7 of Set 10 | praia da vitoria\n",
      "Processing Record 8 of Set 10 | katsuura\n",
      "Processing Record 9 of Set 10 | arman\n",
      "Processing Record 10 of Set 10 | teplodar\n",
      "Processing Record 11 of Set 10 | herrin\n",
      "Processing Record 12 of Set 10 | progreso\n",
      "Processing Record 13 of Set 10 | tabiauea\n",
      "City not found. Skipping...\n",
      "Processing Record 14 of Set 10 | maraa\n",
      "Processing Record 15 of Set 10 | solnechnyy\n",
      "Processing Record 16 of Set 10 | staryy nadym\n",
      "Processing Record 17 of Set 10 | longlac\n",
      "City not found. Skipping...\n",
      "Processing Record 18 of Set 10 | pathein\n",
      "Processing Record 19 of Set 10 | ereymentau\n",
      "Processing Record 20 of Set 10 | kavieng\n",
      "Processing Record 21 of Set 10 | outlook\n",
      "Processing Record 22 of Set 10 | berbera\n",
      "Processing Record 23 of Set 10 | along\n",
      "Processing Record 24 of Set 10 | tuyen quang\n",
      "Processing Record 25 of Set 10 | grand gaube\n",
      "Processing Record 26 of Set 10 | svetlogorsk\n",
      "Processing Record 27 of Set 10 | yar-sale\n",
      "Processing Record 28 of Set 10 | arsk\n",
      "Processing Record 29 of Set 10 | vammala\n",
      "Processing Record 30 of Set 10 | kudahuvadhoo\n",
      "Processing Record 31 of Set 10 | saint-pierre\n",
      "Processing Record 32 of Set 10 | la romana\n",
      "Processing Record 33 of Set 10 | shelburne\n",
      "Processing Record 34 of Set 10 | sinjar\n",
      "Processing Record 35 of Set 10 | portland\n",
      "Processing Record 36 of Set 10 | cayenne\n",
      "Processing Record 37 of Set 10 | ambon\n",
      "Processing Record 38 of Set 10 | flin flon\n",
      "Processing Record 39 of Set 10 | agadez\n",
      "Processing Record 40 of Set 10 | bacum\n",
      "Processing Record 41 of Set 10 | jaffna\n",
      "Processing Record 42 of Set 10 | ketchikan\n",
      "Processing Record 43 of Set 10 | amazar\n",
      "Processing Record 44 of Set 10 | matveyevka\n",
      "Processing Record 45 of Set 10 | waipawa\n",
      "Processing Record 46 of Set 10 | samarai\n",
      "Processing Record 47 of Set 10 | innisfail\n",
      "Processing Record 48 of Set 10 | sorland\n",
      "Processing Record 49 of Set 10 | dali\n",
      "Processing Record 0 of Set 11 | kirakira\n",
      "Processing Record 1 of Set 11 | tevaitoa\n",
      "Processing Record 2 of Set 11 | noumea\n",
      "Processing Record 3 of Set 11 | boende\n",
      "Processing Record 4 of Set 11 | onalaska\n",
      "Processing Record 5 of Set 11 | edson\n",
      "Processing Record 6 of Set 11 | jiuquan\n",
      "Processing Record 7 of Set 11 | jan kempdorp\n",
      "Processing Record 8 of Set 11 | chillan\n",
      "Processing Record 9 of Set 11 | attawapiskat\n",
      "City not found. Skipping...\n",
      "Processing Record 10 of Set 11 | qasigiannguit\n",
      "Processing Record 11 of Set 11 | wanaka\n",
      "Processing Record 12 of Set 11 | umaria\n",
      "Processing Record 13 of Set 11 | san cristobal\n",
      "Processing Record 14 of Set 11 | auki\n",
      "Processing Record 15 of Set 11 | chekhov\n",
      "Processing Record 16 of Set 11 | araguari\n",
      "Processing Record 17 of Set 11 | nikolayevsk-na-amure\n",
      "Processing Record 18 of Set 11 | umzimvubu\n",
      "City not found. Skipping...\n",
      "Processing Record 19 of Set 11 | laguna\n",
      "Processing Record 20 of Set 11 | mocuba\n",
      "Processing Record 21 of Set 11 | luan\n",
      "Processing Record 22 of Set 11 | carbonia\n",
      "Processing Record 23 of Set 11 | iranshahr\n",
      "Processing Record 24 of Set 11 | korla\n",
      "Processing Record 25 of Set 11 | iquitos\n",
      "Processing Record 26 of Set 11 | madera\n",
      "Processing Record 27 of Set 11 | luganville\n",
      "Processing Record 28 of Set 11 | itapirapua\n",
      "Processing Record 29 of Set 11 | elliot\n",
      "Processing Record 30 of Set 11 | vaitupu\n",
      "City not found. Skipping...\n",
      "Processing Record 31 of Set 11 | chingirlau\n",
      "Processing Record 32 of Set 11 | houma\n",
      "Processing Record 33 of Set 11 | nyurba\n",
      "Processing Record 34 of Set 11 | tazovskiy\n",
      "Processing Record 35 of Set 11 | demba\n",
      "Processing Record 36 of Set 11 | botosani\n",
      "Processing Record 37 of Set 11 | turkan\n",
      "Processing Record 38 of Set 11 | carnot\n",
      "Processing Record 39 of Set 11 | pingshan\n",
      "Processing Record 40 of Set 11 | stralsund\n",
      "Processing Record 41 of Set 11 | bonavista\n",
      "Processing Record 42 of Set 11 | grande-riviere\n",
      "City not found. Skipping...\n",
      "Processing Record 43 of Set 11 | marawi\n",
      "Processing Record 44 of Set 11 | yangambi\n",
      "Processing Record 45 of Set 11 | athabasca\n",
      "Processing Record 46 of Set 11 | bure\n",
      "Processing Record 47 of Set 11 | lata\n",
      "Processing Record 48 of Set 11 | mimongo\n",
      "Processing Record 49 of Set 11 | les escoumins\n",
      "Processing Record 0 of Set 12 | dudinka\n",
      "Processing Record 1 of Set 12 | xuddur\n",
      "Processing Record 2 of Set 12 | murgab\n",
      "Processing Record 3 of Set 12 | okato\n",
      "Processing Record 4 of Set 12 | skibbereen\n",
      "Processing Record 5 of Set 12 | mayumba\n",
      "Processing Record 6 of Set 12 | teguldet\n",
      "Processing Record 7 of Set 12 | warrnambool\n",
      "Processing Record 8 of Set 12 | mujiayingzi\n",
      "Processing Record 9 of Set 12 | cap malheureux\n",
      "Processing Record 10 of Set 12 | taksimo\n",
      "Processing Record 11 of Set 12 | ocu\n",
      "Processing Record 12 of Set 12 | phan rang\n",
      "City not found. Skipping...\n",
      "Processing Record 13 of Set 12 | pahuatlan\n"
     ]
    },
    {
     "name": "stdout",
     "output_type": "stream",
     "text": [
      "City not found. Skipping...\n",
      "Processing Record 14 of Set 12 | hobyo\n",
      "Processing Record 15 of Set 12 | zhezkazgan\n",
      "Processing Record 16 of Set 12 | aragarcas\n",
      "Processing Record 17 of Set 12 | amberg\n",
      "Processing Record 18 of Set 12 | pasighat\n",
      "Processing Record 19 of Set 12 | awjilah\n",
      "Processing Record 20 of Set 12 | kargasok\n",
      "Processing Record 21 of Set 12 | baker\n",
      "Processing Record 22 of Set 12 | abay\n",
      "Processing Record 23 of Set 12 | west fargo\n",
      "Processing Record 24 of Set 12 | jadu\n",
      "Processing Record 25 of Set 12 | bara\n",
      "Processing Record 26 of Set 12 | baoqing\n",
      "Processing Record 27 of Set 12 | hindaun\n",
      "Processing Record 28 of Set 12 | labrea\n",
      "-----------------------------\n",
      "Data Retrieval Complete      \n",
      "-----------------------------\n"
     ]
    }
   ],
   "source": [
    "# Set the API base URL\n",
    "url = \"http://api.openweathermap.org/data/2.5/weather?id=524901&units=Imperial&APPID=\" + weather_api_key\n",
    "\n",
    "# Define an empty list to fetch the weather data for each city\n",
    "city_data = []\n",
    "\n",
    "\n",
    "print(\"Beginning Data Retrieval     \")\n",
    "print(\"-----------------------------\")\n",
    "\n",
    "# Create counters\n",
    "record_count = 1\n",
    "set_count = 1\n",
    "\n",
    "# Loop through all the cities in our list to fetch weather data\n",
    "for i, city in enumerate(cities):\n",
    "        \n",
    "    # Group cities in sets of 50 for logging purposes\n",
    "    if (i % 50 == 0 and i >= 50):\n",
    "        set_count += 1\n",
    "        record_count = 0\n",
    "\n",
    "    # Create endpoint URL with each city\n",
    "    city_url = url + \"&q=\" + city\n",
    "    # Log the url, record, and set numbers\n",
    "    print(\"Processing Record %s of Set %s | %s\" % (record_count, set_count, city))\n",
    "\n",
    "    # Add 1 to the record count\n",
    "    record_count += 1\n",
    "\n",
    "    # Run an API request for each of the cities\n",
    "        # Parse the JSON and retrieve data\n",
    "        \n",
    "    try:\n",
    "        # Parse the JSON and retrieve data\n",
    "        city_weather = requests.get(city_url).json()\n",
    "\n",
    "        # Parse out latitude, longitude, max temp, humidity, cloudiness, wind speed, country, and date\n",
    "        city_lat = city_weather[\"coord\"][\"lat\"]\n",
    "        city_lng = city_weather[\"coord\"][\"lon\"]\n",
    "        city_max_temp = city_weather[\"main\"][\"temp_max\"]\n",
    "        city_humidity = city_weather[\"main\"][\"humidity\"]\n",
    "        city_clouds = city_weather[\"clouds\"][\"all\"]\n",
    "        city_wind = city_weather[\"wind\"][\"speed\"]\n",
    "        city_country = city_weather[\"sys\"][\"country\"]\n",
    "        city_date = city_weather[\"dt\"]\n",
    "\n",
    "        # Append the City information into city_data list\n",
    "        city_data.append({\"City\": city, \n",
    "                          \"Lat\": city_lat, \n",
    "                          \"Lng\": city_lng, \n",
    "                          \"Max Temp\": city_max_temp,\n",
    "                          \"Humidity\": city_humidity,\n",
    "                          \"Cloudiness\": city_clouds,\n",
    "                          \"Wind Speed\": city_wind,\n",
    "                          \"Country\": city_country,\n",
    "                          \"Date\": city_date})\n",
    "\n",
    "    # If an error is experienced, skip the city\n",
    "    except:\n",
    "        print(\"City not found. Skipping...\")\n",
    "        pass\n",
    "              \n",
    "              \n",
    "# Indicate that Data Loading is complete \n",
    "print(\"-----------------------------\")\n",
    "print(\"Data Retrieval Complete      \")\n",
    "print(\"-----------------------------\")"
   ]
  },
  {
   "cell_type": "code",
   "execution_count": 10,
   "metadata": {},
   "outputs": [
    {
     "data": {
      "text/plain": [
       "531"
      ]
     },
     "execution_count": 10,
     "metadata": {},
     "output_type": "execute_result"
    }
   ],
   "source": [
    "len(city_data)"
   ]
  },
  {
   "cell_type": "code",
   "execution_count": 11,
   "metadata": {},
   "outputs": [
    {
     "data": {
      "text/plain": [
       "City          531\n",
       "Lat           531\n",
       "Lng           531\n",
       "Max Temp      531\n",
       "Humidity      531\n",
       "Cloudiness    531\n",
       "Wind Speed    531\n",
       "Country       531\n",
       "Date          531\n",
       "dtype: int64"
      ]
     },
     "execution_count": 11,
     "metadata": {},
     "output_type": "execute_result"
    }
   ],
   "source": [
    "# Convert the cities weather data into a Pandas DataFrame\n",
    "city_data_df = pd.DataFrame(city_data)\n",
    "\n",
    "# Show Record Count\n",
    "city_data_df.count()"
   ]
  },
  {
   "cell_type": "code",
   "execution_count": 12,
   "metadata": {},
   "outputs": [
    {
     "data": {
      "text/html": [
       "<div>\n",
       "<style scoped>\n",
       "    .dataframe tbody tr th:only-of-type {\n",
       "        vertical-align: middle;\n",
       "    }\n",
       "\n",
       "    .dataframe tbody tr th {\n",
       "        vertical-align: top;\n",
       "    }\n",
       "\n",
       "    .dataframe thead th {\n",
       "        text-align: right;\n",
       "    }\n",
       "</style>\n",
       "<table border=\"1\" class=\"dataframe\">\n",
       "  <thead>\n",
       "    <tr style=\"text-align: right;\">\n",
       "      <th></th>\n",
       "      <th>City</th>\n",
       "      <th>Lat</th>\n",
       "      <th>Lng</th>\n",
       "      <th>Max Temp</th>\n",
       "      <th>Humidity</th>\n",
       "      <th>Cloudiness</th>\n",
       "      <th>Wind Speed</th>\n",
       "      <th>Country</th>\n",
       "      <th>Date</th>\n",
       "    </tr>\n",
       "  </thead>\n",
       "  <tbody>\n",
       "    <tr>\n",
       "      <th>0</th>\n",
       "      <td>luderitz</td>\n",
       "      <td>-26.6481</td>\n",
       "      <td>15.1594</td>\n",
       "      <td>66.27</td>\n",
       "      <td>76</td>\n",
       "      <td>96</td>\n",
       "      <td>19.19</td>\n",
       "      <td>NA</td>\n",
       "      <td>1675624461</td>\n",
       "    </tr>\n",
       "    <tr>\n",
       "      <th>1</th>\n",
       "      <td>avera</td>\n",
       "      <td>33.1940</td>\n",
       "      <td>-82.5271</td>\n",
       "      <td>64.38</td>\n",
       "      <td>61</td>\n",
       "      <td>100</td>\n",
       "      <td>5.01</td>\n",
       "      <td>US</td>\n",
       "      <td>1675624462</td>\n",
       "    </tr>\n",
       "    <tr>\n",
       "      <th>2</th>\n",
       "      <td>la rioja</td>\n",
       "      <td>42.2500</td>\n",
       "      <td>-2.5000</td>\n",
       "      <td>37.18</td>\n",
       "      <td>91</td>\n",
       "      <td>44</td>\n",
       "      <td>5.73</td>\n",
       "      <td>ES</td>\n",
       "      <td>1675624462</td>\n",
       "    </tr>\n",
       "    <tr>\n",
       "      <th>3</th>\n",
       "      <td>ancud</td>\n",
       "      <td>-41.8697</td>\n",
       "      <td>-73.8203</td>\n",
       "      <td>64.58</td>\n",
       "      <td>73</td>\n",
       "      <td>23</td>\n",
       "      <td>11.34</td>\n",
       "      <td>CL</td>\n",
       "      <td>1675624463</td>\n",
       "    </tr>\n",
       "    <tr>\n",
       "      <th>4</th>\n",
       "      <td>manta</td>\n",
       "      <td>-0.9500</td>\n",
       "      <td>-80.7333</td>\n",
       "      <td>83.98</td>\n",
       "      <td>74</td>\n",
       "      <td>75</td>\n",
       "      <td>6.91</td>\n",
       "      <td>EC</td>\n",
       "      <td>1675624464</td>\n",
       "    </tr>\n",
       "  </tbody>\n",
       "</table>\n",
       "</div>"
      ],
      "text/plain": [
       "       City      Lat      Lng  Max Temp  Humidity  Cloudiness  Wind Speed  \\\n",
       "0  luderitz -26.6481  15.1594     66.27        76          96       19.19   \n",
       "1     avera  33.1940 -82.5271     64.38        61         100        5.01   \n",
       "2  la rioja  42.2500  -2.5000     37.18        91          44        5.73   \n",
       "3     ancud -41.8697 -73.8203     64.58        73          23       11.34   \n",
       "4     manta  -0.9500 -80.7333     83.98        74          75        6.91   \n",
       "\n",
       "  Country        Date  \n",
       "0      NA  1675624461  \n",
       "1      US  1675624462  \n",
       "2      ES  1675624462  \n",
       "3      CL  1675624463  \n",
       "4      EC  1675624464  "
      ]
     },
     "execution_count": 12,
     "metadata": {},
     "output_type": "execute_result"
    }
   ],
   "source": [
    "# Display sample data\n",
    "city_data_df.head()"
   ]
  },
  {
   "cell_type": "code",
   "execution_count": 13,
   "metadata": {},
   "outputs": [],
   "source": [
    "# Export the City_Data into a csv\n",
    "city_data_df.to_csv(\"../output_data/cities.csv\", index_label=\"City_ID\")"
   ]
  },
  {
   "cell_type": "code",
   "execution_count": 14,
   "metadata": {},
   "outputs": [
    {
     "data": {
      "text/html": [
       "<div>\n",
       "<style scoped>\n",
       "    .dataframe tbody tr th:only-of-type {\n",
       "        vertical-align: middle;\n",
       "    }\n",
       "\n",
       "    .dataframe tbody tr th {\n",
       "        vertical-align: top;\n",
       "    }\n",
       "\n",
       "    .dataframe thead th {\n",
       "        text-align: right;\n",
       "    }\n",
       "</style>\n",
       "<table border=\"1\" class=\"dataframe\">\n",
       "  <thead>\n",
       "    <tr style=\"text-align: right;\">\n",
       "      <th></th>\n",
       "      <th>City</th>\n",
       "      <th>Lat</th>\n",
       "      <th>Lng</th>\n",
       "      <th>Max Temp</th>\n",
       "      <th>Humidity</th>\n",
       "      <th>Cloudiness</th>\n",
       "      <th>Wind Speed</th>\n",
       "      <th>Country</th>\n",
       "      <th>Date</th>\n",
       "    </tr>\n",
       "    <tr>\n",
       "      <th>City_ID</th>\n",
       "      <th></th>\n",
       "      <th></th>\n",
       "      <th></th>\n",
       "      <th></th>\n",
       "      <th></th>\n",
       "      <th></th>\n",
       "      <th></th>\n",
       "      <th></th>\n",
       "      <th></th>\n",
       "    </tr>\n",
       "  </thead>\n",
       "  <tbody>\n",
       "    <tr>\n",
       "      <th>0</th>\n",
       "      <td>luderitz</td>\n",
       "      <td>-26.6481</td>\n",
       "      <td>15.1594</td>\n",
       "      <td>66.27</td>\n",
       "      <td>76</td>\n",
       "      <td>96</td>\n",
       "      <td>19.19</td>\n",
       "      <td>NaN</td>\n",
       "      <td>1675624461</td>\n",
       "    </tr>\n",
       "    <tr>\n",
       "      <th>1</th>\n",
       "      <td>avera</td>\n",
       "      <td>33.1940</td>\n",
       "      <td>-82.5271</td>\n",
       "      <td>64.38</td>\n",
       "      <td>61</td>\n",
       "      <td>100</td>\n",
       "      <td>5.01</td>\n",
       "      <td>US</td>\n",
       "      <td>1675624462</td>\n",
       "    </tr>\n",
       "    <tr>\n",
       "      <th>2</th>\n",
       "      <td>la rioja</td>\n",
       "      <td>42.2500</td>\n",
       "      <td>-2.5000</td>\n",
       "      <td>37.18</td>\n",
       "      <td>91</td>\n",
       "      <td>44</td>\n",
       "      <td>5.73</td>\n",
       "      <td>ES</td>\n",
       "      <td>1675624462</td>\n",
       "    </tr>\n",
       "    <tr>\n",
       "      <th>3</th>\n",
       "      <td>ancud</td>\n",
       "      <td>-41.8697</td>\n",
       "      <td>-73.8203</td>\n",
       "      <td>64.58</td>\n",
       "      <td>73</td>\n",
       "      <td>23</td>\n",
       "      <td>11.34</td>\n",
       "      <td>CL</td>\n",
       "      <td>1675624463</td>\n",
       "    </tr>\n",
       "    <tr>\n",
       "      <th>4</th>\n",
       "      <td>manta</td>\n",
       "      <td>-0.9500</td>\n",
       "      <td>-80.7333</td>\n",
       "      <td>83.98</td>\n",
       "      <td>74</td>\n",
       "      <td>75</td>\n",
       "      <td>6.91</td>\n",
       "      <td>EC</td>\n",
       "      <td>1675624464</td>\n",
       "    </tr>\n",
       "  </tbody>\n",
       "</table>\n",
       "</div>"
      ],
      "text/plain": [
       "             City      Lat      Lng  Max Temp  Humidity  Cloudiness  \\\n",
       "City_ID                                                               \n",
       "0        luderitz -26.6481  15.1594     66.27        76          96   \n",
       "1           avera  33.1940 -82.5271     64.38        61         100   \n",
       "2        la rioja  42.2500  -2.5000     37.18        91          44   \n",
       "3           ancud -41.8697 -73.8203     64.58        73          23   \n",
       "4           manta  -0.9500 -80.7333     83.98        74          75   \n",
       "\n",
       "         Wind Speed Country        Date  \n",
       "City_ID                                  \n",
       "0             19.19     NaN  1675624461  \n",
       "1              5.01      US  1675624462  \n",
       "2              5.73      ES  1675624462  \n",
       "3             11.34      CL  1675624463  \n",
       "4              6.91      EC  1675624464  "
      ]
     },
     "execution_count": 14,
     "metadata": {},
     "output_type": "execute_result"
    }
   ],
   "source": [
    "# Read saved data\n",
    "city_data_df = pd.read_csv(\"../output_data/cities.csv\", index_col=\"City_ID\")\n",
    "\n",
    "# Display sample data\n",
    "city_data_df.head()"
   ]
  },
  {
   "cell_type": "markdown",
   "metadata": {},
   "source": [
    "### Create the Scatter Plots Requested\n",
    "\n",
    "#### Latitude Vs. Temperature"
   ]
  },
  {
   "cell_type": "code",
   "execution_count": 15,
   "metadata": {
    "tags": []
   },
   "outputs": [
    {
     "data": {
      "image/png": "[encoded data removed]",
      "text/plain": [
       "<Figure size 432x288 with 1 Axes>"
      ]
     },
     "metadata": {
      "needs_background": "light"
     },
     "output_type": "display_data"
    }
   ],
   "source": [
    "# Build scatter plot for latitude vs. temperature\n",
    "# YOUR CODE HERE\n",
    "plt.scatter(city_data_df[\"Lat\"], city_data_df[\"Max Temp\"], marker=\"o\", \n",
    "           alpha=.75, edgecolors=\"k\")\n",
    "\n",
    "# Incorporate the other graph properties\n",
    "# YOUR CODE HERE\n",
    "plt.title(\"City Max Latitude vs. Temperature (2022-10-18)  \")\n",
    "plt.ylabel(\"Max Temperature (C)\")\n",
    "plt.xlabel(\"Latitude\")\n",
    "plt.grid(True)\n",
    "\n",
    "# Save the figure\n",
    "plt.savefig(\"../output_data/Fig1.png\")\n",
    "\n",
    "# Show plot\n",
    "plt.show()"
   ]
  },
  {
   "cell_type": "markdown",
   "metadata": {},
   "source": [
    "#### Latitude Vs. Humidity"
   ]
  },
  {
   "cell_type": "code",
   "execution_count": 16,
   "metadata": {},
   "outputs": [
    {
     "data": {
      "image/png": "[encoded data removed]",
      "text/plain": [
       "<Figure size 432x288 with 1 Axes>"
      ]
     },
     "metadata": {
      "needs_background": "light"
     },
     "output_type": "display_data"
    }
   ],
   "source": [
    "# Build the scatter plots for latitude vs. humidity\n",
    "plt.scatter(city_data_df[\"Lat\"], city_data_df[\"Humidity\"], marker=\"o\", \n",
    "           linewidth=1,alpha=.75, edgecolors=\"k\")\n",
    "\n",
    "# Incorporate the other graph properties\n",
    "# YOUR CODE HERE\n",
    "plt.title(\"City Max Latitude vs. Humidity (2022-10-18)  \")\n",
    "plt.ylabel(\"Humidity (%)\")\n",
    "plt.xlabel(\"Latitude\")\n",
    "plt.grid(True)\n",
    "\n",
    "\n",
    "# Save the figure\n",
    "plt.savefig(\"../output_data/Fig2.png\")\n",
    "\n",
    "# Show plot\n",
    "plt.show()"
   ]
  },
  {
   "cell_type": "markdown",
   "metadata": {},
   "source": [
    "#### Latitude Vs. Cloudiness"
   ]
  },
  {
   "cell_type": "code",
   "execution_count": 17,
   "metadata": {},
   "outputs": [
    {
     "data": {
      "image/png": "[encoded data removed]",
      "text/plain": [
       "<Figure size 432x288 with 1 Axes>"
      ]
     },
     "metadata": {
      "needs_background": "light"
     },
     "output_type": "display_data"
    }
   ],
   "source": [
    "# Build the scatter plots for latitude vs. cloudiness\n",
    "# YOUR CODE HERE\n",
    "plt.scatter(city_data_df[\"Lat\"], city_data_df[\"Cloudiness\"], marker=\"o\", \n",
    "           linewidth=1,alpha=.75, edgecolors=\"k\")\n",
    "\n",
    "# Incorporate the other graph properties\n",
    "# YOUR CODE HERE\n",
    "plt.title(\"City Max Latitude vs. Cloudiness (2022-10-18)  \")\n",
    "plt.ylabel(\"Cloudiness (%)\")\n",
    "plt.xlabel(\"Latitude\")\n",
    "plt.grid(True)\n",
    "\n",
    "\n",
    "# Save the figure\n",
    "plt.savefig(\"../output_data/Fig3.png\")\n",
    "\n",
    "# Show plot\n",
    "plt.show()"
   ]
  },
  {
   "cell_type": "markdown",
   "metadata": {},
   "source": [
    "#### Latitude vs. Wind Speed Plot"
   ]
  },
  {
   "cell_type": "code",
   "execution_count": 18,
   "metadata": {},
   "outputs": [
    {
     "data": {
      "image/png": "[encoded data removed]",
      "text/plain": [
       "<Figure size 432x288 with 1 Axes>"
      ]
     },
     "metadata": {
      "needs_background": "light"
     },
     "output_type": "display_data"
    }
   ],
   "source": [
    "# Build the scatter plots for latitude vs. wind speed\n",
    "# YOUR CODE HERE\n",
    "\n",
    "plt.scatter(city_data_df[\"Lat\"], city_data_df[\"Wind Speed\"], marker=\"o\", \n",
    "           linewidth=1,alpha=.75, edgecolors=\"k\")\n",
    "\n",
    "# Incorporate the other graph properties\n",
    "# YOUR CODE HERE\n",
    "plt.title(\"City Max Latitude vs. Wind Speed (2022-10-18)  \")\n",
    "plt.ylabel(\"Wind Speed (m/s)\")\n",
    "plt.xlabel(\"Latitude\")\n",
    "plt.grid(True)\n",
    "\n",
    "# Save the figure\n",
    "plt.savefig(\"../output_data/Fig4.png\")\n",
    "\n",
    "# Show plot\n",
    "plt.show()"
   ]
  },
  {
   "cell_type": "markdown",
   "metadata": {},
   "source": [
    "---\n",
    "\n",
    "## Requirement 2: Compute Linear Regression for Each Relationship\n"
   ]
  },
  {
   "cell_type": "code",
   "execution_count": 19,
   "metadata": {},
   "outputs": [],
   "source": [
    "# Define a function to create Linear Regression plots\n",
    "# YOUR CODE HERE\n",
    "\n",
    "northern_hemi_df = city_data_df.loc[city_data_df[\"Lat\"] >= 0]\n",
    "southern_hemi_df = city_data_df.loc[city_data_df[\"Lat\"] < 0]"
   ]
  },
  {
   "cell_type": "code",
   "execution_count": 20,
   "metadata": {},
   "outputs": [
    {
     "data": {
      "text/html": [
       "<div>\n",
       "<style scoped>\n",
       "    .dataframe tbody tr th:only-of-type {\n",
       "        vertical-align: middle;\n",
       "    }\n",
       "\n",
       "    .dataframe tbody tr th {\n",
       "        vertical-align: top;\n",
       "    }\n",
       "\n",
       "    .dataframe thead th {\n",
       "        text-align: right;\n",
       "    }\n",
       "</style>\n",
       "<table border=\"1\" class=\"dataframe\">\n",
       "  <thead>\n",
       "    <tr style=\"text-align: right;\">\n",
       "      <th></th>\n",
       "      <th>City</th>\n",
       "      <th>Lat</th>\n",
       "      <th>Lng</th>\n",
       "      <th>Max Temp</th>\n",
       "      <th>Humidity</th>\n",
       "      <th>Cloudiness</th>\n",
       "      <th>Wind Speed</th>\n",
       "      <th>Country</th>\n",
       "      <th>Date</th>\n",
       "    </tr>\n",
       "    <tr>\n",
       "      <th>City_ID</th>\n",
       "      <th></th>\n",
       "      <th></th>\n",
       "      <th></th>\n",
       "      <th></th>\n",
       "      <th></th>\n",
       "      <th></th>\n",
       "      <th></th>\n",
       "      <th></th>\n",
       "      <th></th>\n",
       "    </tr>\n",
       "  </thead>\n",
       "  <tbody>\n",
       "    <tr>\n",
       "      <th>1</th>\n",
       "      <td>avera</td>\n",
       "      <td>33.1940</td>\n",
       "      <td>-82.5271</td>\n",
       "      <td>64.38</td>\n",
       "      <td>61</td>\n",
       "      <td>100</td>\n",
       "      <td>5.01</td>\n",
       "      <td>US</td>\n",
       "      <td>1675624462</td>\n",
       "    </tr>\n",
       "    <tr>\n",
       "      <th>2</th>\n",
       "      <td>la rioja</td>\n",
       "      <td>42.2500</td>\n",
       "      <td>-2.5000</td>\n",
       "      <td>37.18</td>\n",
       "      <td>91</td>\n",
       "      <td>44</td>\n",
       "      <td>5.73</td>\n",
       "      <td>ES</td>\n",
       "      <td>1675624462</td>\n",
       "    </tr>\n",
       "    <tr>\n",
       "      <th>5</th>\n",
       "      <td>klyuchi</td>\n",
       "      <td>52.2667</td>\n",
       "      <td>79.1667</td>\n",
       "      <td>10.56</td>\n",
       "      <td>97</td>\n",
       "      <td>100</td>\n",
       "      <td>4.56</td>\n",
       "      <td>RU</td>\n",
       "      <td>1675624189</td>\n",
       "    </tr>\n",
       "    <tr>\n",
       "      <th>6</th>\n",
       "      <td>port blair</td>\n",
       "      <td>11.6667</td>\n",
       "      <td>92.7500</td>\n",
       "      <td>78.91</td>\n",
       "      <td>80</td>\n",
       "      <td>61</td>\n",
       "      <td>5.35</td>\n",
       "      <td>IN</td>\n",
       "      <td>1675624467</td>\n",
       "    </tr>\n",
       "    <tr>\n",
       "      <th>7</th>\n",
       "      <td>mangan</td>\n",
       "      <td>27.5167</td>\n",
       "      <td>88.5333</td>\n",
       "      <td>58.32</td>\n",
       "      <td>60</td>\n",
       "      <td>93</td>\n",
       "      <td>2.71</td>\n",
       "      <td>IN</td>\n",
       "      <td>1675624468</td>\n",
       "    </tr>\n",
       "  </tbody>\n",
       "</table>\n",
       "</div>"
      ],
      "text/plain": [
       "               City      Lat      Lng  Max Temp  Humidity  Cloudiness  \\\n",
       "City_ID                                                                 \n",
       "1             avera  33.1940 -82.5271     64.38        61         100   \n",
       "2          la rioja  42.2500  -2.5000     37.18        91          44   \n",
       "5           klyuchi  52.2667  79.1667     10.56        97         100   \n",
       "6        port blair  11.6667  92.7500     78.91        80          61   \n",
       "7            mangan  27.5167  88.5333     58.32        60          93   \n",
       "\n",
       "         Wind Speed Country        Date  \n",
       "City_ID                                  \n",
       "1              5.01      US  1675624462  \n",
       "2              5.73      ES  1675624462  \n",
       "5              4.56      RU  1675624189  \n",
       "6              5.35      IN  1675624467  \n",
       "7              2.71      IN  1675624468  "
      ]
     },
     "execution_count": 20,
     "metadata": {},
     "output_type": "execute_result"
    }
   ],
   "source": [
    "# Create a DataFrame with the Northern Hemisphere data (Latitude >= 0)\n",
    "# YOUR CODE HERE\n",
    "northern_hemi_df = city_data_df.loc[city_data_df[\"Lat\"] >= 0]\n",
    "\n",
    "# Display sample data\n",
    "northern_hemi_df.head()"
   ]
  },
  {
   "cell_type": "code",
   "execution_count": 21,
   "metadata": {},
   "outputs": [
    {
     "data": {
      "text/html": [
       "<div>\n",
       "<style scoped>\n",
       "    .dataframe tbody tr th:only-of-type {\n",
       "        vertical-align: middle;\n",
       "    }\n",
       "\n",
       "    .dataframe tbody tr th {\n",
       "        vertical-align: top;\n",
       "    }\n",
       "\n",
       "    .dataframe thead th {\n",
       "        text-align: right;\n",
       "    }\n",
       "</style>\n",
       "<table border=\"1\" class=\"dataframe\">\n",
       "  <thead>\n",
       "    <tr style=\"text-align: right;\">\n",
       "      <th></th>\n",
       "      <th>City</th>\n",
       "      <th>Lat</th>\n",
       "      <th>Lng</th>\n",
       "      <th>Max Temp</th>\n",
       "      <th>Humidity</th>\n",
       "      <th>Cloudiness</th>\n",
       "      <th>Wind Speed</th>\n",
       "      <th>Country</th>\n",
       "      <th>Date</th>\n",
       "    </tr>\n",
       "    <tr>\n",
       "      <th>City_ID</th>\n",
       "      <th></th>\n",
       "      <th></th>\n",
       "      <th></th>\n",
       "      <th></th>\n",
       "      <th></th>\n",
       "      <th></th>\n",
       "      <th></th>\n",
       "      <th></th>\n",
       "      <th></th>\n",
       "    </tr>\n",
       "  </thead>\n",
       "  <tbody>\n",
       "    <tr>\n",
       "      <th>0</th>\n",
       "      <td>luderitz</td>\n",
       "      <td>-26.6481</td>\n",
       "      <td>15.1594</td>\n",
       "      <td>66.27</td>\n",
       "      <td>76</td>\n",
       "      <td>96</td>\n",
       "      <td>19.19</td>\n",
       "      <td>NaN</td>\n",
       "      <td>1675624461</td>\n",
       "    </tr>\n",
       "    <tr>\n",
       "      <th>3</th>\n",
       "      <td>ancud</td>\n",
       "      <td>-41.8697</td>\n",
       "      <td>-73.8203</td>\n",
       "      <td>64.58</td>\n",
       "      <td>73</td>\n",
       "      <td>23</td>\n",
       "      <td>11.34</td>\n",
       "      <td>CL</td>\n",
       "      <td>1675624463</td>\n",
       "    </tr>\n",
       "    <tr>\n",
       "      <th>4</th>\n",
       "      <td>manta</td>\n",
       "      <td>-0.9500</td>\n",
       "      <td>-80.7333</td>\n",
       "      <td>83.98</td>\n",
       "      <td>74</td>\n",
       "      <td>75</td>\n",
       "      <td>6.91</td>\n",
       "      <td>EC</td>\n",
       "      <td>1675624464</td>\n",
       "    </tr>\n",
       "    <tr>\n",
       "      <th>8</th>\n",
       "      <td>hobart</td>\n",
       "      <td>-42.8794</td>\n",
       "      <td>147.3294</td>\n",
       "      <td>58.86</td>\n",
       "      <td>74</td>\n",
       "      <td>90</td>\n",
       "      <td>13.80</td>\n",
       "      <td>AU</td>\n",
       "      <td>1675624387</td>\n",
       "    </tr>\n",
       "    <tr>\n",
       "      <th>11</th>\n",
       "      <td>new norfolk</td>\n",
       "      <td>-42.7826</td>\n",
       "      <td>147.0587</td>\n",
       "      <td>58.50</td>\n",
       "      <td>64</td>\n",
       "      <td>100</td>\n",
       "      <td>1.99</td>\n",
       "      <td>AU</td>\n",
       "      <td>1675624471</td>\n",
       "    </tr>\n",
       "  </tbody>\n",
       "</table>\n",
       "</div>"
      ],
      "text/plain": [
       "                City      Lat       Lng  Max Temp  Humidity  Cloudiness  \\\n",
       "City_ID                                                                   \n",
       "0           luderitz -26.6481   15.1594     66.27        76          96   \n",
       "3              ancud -41.8697  -73.8203     64.58        73          23   \n",
       "4              manta  -0.9500  -80.7333     83.98        74          75   \n",
       "8             hobart -42.8794  147.3294     58.86        74          90   \n",
       "11       new norfolk -42.7826  147.0587     58.50        64         100   \n",
       "\n",
       "         Wind Speed Country        Date  \n",
       "City_ID                                  \n",
       "0             19.19     NaN  1675624461  \n",
       "3             11.34      CL  1675624463  \n",
       "4              6.91      EC  1675624464  \n",
       "8             13.80      AU  1675624387  \n",
       "11             1.99      AU  1675624471  "
      ]
     },
     "execution_count": 21,
     "metadata": {},
     "output_type": "execute_result"
    }
   ],
   "source": [
    "# Create a DataFrame with the Southern Hemisphere data (Latitude < 0)\n",
    "# YOUR CODE HERE\n",
    "southern_hemi_df = city_data_df.loc[city_data_df[\"Lat\"] < 0]\n",
    "# Display sample data\n",
    "southern_hemi_df.head()"
   ]
  },
  {
   "cell_type": "markdown",
   "metadata": {},
   "source": [
    "###  Temperature vs. Latitude Linear Regression Plot"
   ]
  },
  {
   "cell_type": "code",
   "execution_count": 22,
   "metadata": {},
   "outputs": [],
   "source": [
    "# Linear regression on Northern Hemisphere\n",
    "# YOUR CODE HERE"
   ]
  },
  {
   "cell_type": "code",
   "execution_count": 23,
   "metadata": {},
   "outputs": [
    {
     "name": "stdout",
     "output_type": "stream",
     "text": [
      "The r-value is: 0.7397661172869262\n"
     ]
    },
    {
     "data": {
      "image/png": "[encoded data removed]",
      "text/plain": [
       "<Figure size 432x288 with 1 Axes>"
      ]
     },
     "metadata": {
      "needs_background": "light"
     },
     "output_type": "display_data"
    }
   ],
   "source": [
    "x_values = northern_hemi_df['Lat']\n",
    "y_values = northern_hemi_df['Max Temp']\n",
    "(slope, intercept, rvalue, pvalue, stderr) = linregress(x_values, y_values)\n",
    "regress_values = x_values * slope + intercept\n",
    "line_eq = \"y = \" + str(round(slope,2)) + \"x + \" + str(round(intercept,2))\n",
    "plt.scatter(x_values,y_values)\n",
    "plt.plot(x_values,regress_values,\"r-\")\n",
    "plt.annotate(line_eq,(5.8,0.8),fontsize=15,color=\"red\")\n",
    "plt.xlabel('Latitude')\n",
    "plt.ylabel('Max Temp')\n",
    "print(f\"The r-value is: {rvalue**2}\")\n",
    "\n",
    "plt.show()"
   ]
  },
  {
   "cell_type": "code",
   "execution_count": 24,
   "metadata": {},
   "outputs": [],
   "source": [
    "# Linear regression on Southern Hemisphere\n",
    "# YOUR CODE HERE"
   ]
  },
  {
   "cell_type": "code",
   "execution_count": 25,
   "metadata": {},
   "outputs": [
    {
     "name": "stdout",
     "output_type": "stream",
     "text": [
      "The r-value is: 0.2765093213074824\n"
     ]
    },
    {
     "data": {
      "image/png": "[encoded data removed]",
      "text/plain": [
       "<Figure size 432x288 with 1 Axes>"
      ]
     },
     "metadata": {
      "needs_background": "light"
     },
     "output_type": "display_data"
    }
   ],
   "source": [
    "x_values = southern_hemi_df['Lat']\n",
    "y_values = southern_hemi_df['Max Temp']\n",
    "(slope, intercept, rvalue, pvalue, stderr) = linregress(x_values, y_values)\n",
    "regress_values = x_values * slope + intercept\n",
    "line_eq = \"y = \" + str(round(slope,2)) + \"x + \" + str(round(intercept,2))\n",
    "plt.scatter(x_values,y_values)\n",
    "plt.plot(x_values,regress_values,\"r-\")\n",
    "plt.annotate(line_eq,(5.8,0.8),fontsize=15,color=\"red\")\n",
    "plt.xlabel('Latitude')\n",
    "plt.ylabel('Max Temp')\n",
    "print(f\"The r-value is: {rvalue**2}\")\n",
    "\n",
    "plt.show()"
   ]
  },
  {
   "cell_type": "markdown",
   "metadata": {},
   "source": [
    "**Discussion about the linear relationship:** YOUR RESPONSE HERE\n",
    "With the northern hemisphere, the temperature ranges from -60 to 80. Indicating that as you move away from the latitude, the max temperature gets colder. Thus creating a perfect negative correction. With the southern hemisphere, there is indication of low correlation.  "
   ]
  },
  {
   "cell_type": "markdown",
   "metadata": {},
   "source": [
    "### Humidity vs. Latitude Linear Regression Plot"
   ]
  },
  {
   "cell_type": "code",
   "execution_count": 26,
   "metadata": {},
   "outputs": [],
   "source": [
    "# Northern Hemisphere\n",
    "# YOUR CODE HERE"
   ]
  },
  {
   "cell_type": "code",
   "execution_count": 27,
   "metadata": {},
   "outputs": [
    {
     "name": "stdout",
     "output_type": "stream",
     "text": [
      "The r-value is: 0.25437642724778364\n"
     ]
    },
    {
     "data": {
      "image/png": "[encoded data removed]",
      "text/plain": [
       "<Figure size 432x288 with 1 Axes>"
      ]
     },
     "metadata": {
      "needs_background": "light"
     },
     "output_type": "display_data"
    }
   ],
   "source": [
    "x_values = northern_hemi_df['Lat']\n",
    "y_values = northern_hemi_df['Humidity']\n",
    "(slope, intercept, rvalue, pvalue, stderr) = linregress(x_values, y_values)\n",
    "regress_values = x_values * slope + intercept\n",
    "line_eq = \"y = \" + str(round(slope,2)) + \"x + \" + str(round(intercept,2))\n",
    "plt.scatter(x_values,y_values)\n",
    "plt.plot(x_values,regress_values,\"r-\")\n",
    "plt.annotate(line_eq,(5.8,0.8),fontsize=15,color=\"red\")\n",
    "plt.xlabel('Latitude')\n",
    "plt.ylabel('Humidity')\n",
    "print(f\"The r-value is: {rvalue**2}\")\n",
    "\n",
    "plt.show()"
   ]
  },
  {
   "cell_type": "code",
   "execution_count": 28,
   "metadata": {},
   "outputs": [],
   "source": [
    "# Southern Hemisphere\n",
    "# YOUR CODE HERE"
   ]
  },
  {
   "cell_type": "code",
   "execution_count": 29,
   "metadata": {},
   "outputs": [
    {
     "name": "stdout",
     "output_type": "stream",
     "text": [
      "The r-value is: 0.03584812810520901\n"
     ]
    },
    {
     "data": {
      "image/png": "[encoded data removed]",
      "text/plain": [
       "<Figure size 432x288 with 1 Axes>"
      ]
     },
     "metadata": {
      "needs_background": "light"
     },
     "output_type": "display_data"
    }
   ],
   "source": [
    "x_values = southern_hemi_df['Lat']\n",
    "y_values = southern_hemi_df['Humidity']\n",
    "(slope, intercept, rvalue, pvalue, stderr) = linregress(x_values, y_values)\n",
    "regress_values = x_values * slope + intercept\n",
    "line_eq = \"y = \" + str(round(slope,2)) + \"x + \" + str(round(intercept,2))\n",
    "plt.scatter(x_values,y_values)\n",
    "plt.plot(x_values,regress_values,\"r-\")\n",
    "plt.annotate(line_eq,(5.8,0.8),fontsize=15,color=\"red\")\n",
    "plt.xlabel('Latitude')\n",
    "plt.ylabel('Humidity')\n",
    "print(f\"The r-value is: {rvalue**2}\")\n",
    "\n",
    "plt.show()"
   ]
  },
  {
   "cell_type": "markdown",
   "metadata": {},
   "source": [
    "**Discussion about the linear relationship:** YOUR RESPONSE HERE\n",
    "In the northern hemisphere, as the latitude increases, humidity increases. Creating a positive correlation. For the southern hemisphere, there is no significant correlation between latitudes and humidity but as the latitude gets closer to 0, a cluster starts to form. "
   ]
  },
  {
   "cell_type": "markdown",
   "metadata": {},
   "source": [
    "### Cloudiness vs. Latitude Linear Regression Plot"
   ]
  },
  {
   "cell_type": "code",
   "execution_count": 30,
   "metadata": {},
   "outputs": [],
   "source": [
    "# Northern Hemisphere\n",
    "# YOUR CODE HERE"
   ]
  },
  {
   "cell_type": "code",
   "execution_count": 31,
   "metadata": {},
   "outputs": [
    {
     "name": "stdout",
     "output_type": "stream",
     "text": [
      "The r-value is: 0.10054196319492083\n"
     ]
    },
    {
     "data": {
      "image/png": "[encoded data removed]",
      "text/plain": [
       "<Figure size 432x288 with 1 Axes>"
      ]
     },
     "metadata": {
      "needs_background": "light"
     },
     "output_type": "display_data"
    }
   ],
   "source": [
    "x_values = northern_hemi_df['Lat']\n",
    "y_values = northern_hemi_df['Cloudiness']\n",
    "(slope, intercept, rvalue, pvalue, stderr) = linregress(x_values, y_values)\n",
    "regress_values = x_values * slope + intercept\n",
    "line_eq = \"y = \" + str(round(slope,2)) + \"x + \" + str(round(intercept,2))\n",
    "plt.scatter(x_values,y_values)\n",
    "plt.plot(x_values,regress_values,\"r-\")\n",
    "plt.annotate(line_eq,(45,10),fontsize=15,color=\"red\")\n",
    "plt.xlabel('Latitude')\n",
    "plt.ylabel('Cloudiness')\n",
    "print(f\"The r-value is: {rvalue**2}\")\n",
    "\n",
    "plt.show()"
   ]
  },
  {
   "cell_type": "code",
   "execution_count": 32,
   "metadata": {},
   "outputs": [],
   "source": [
    "# Southern Hemisphere\n",
    "# YOUR CODE HERE"
   ]
  },
  {
   "cell_type": "code",
   "execution_count": 33,
   "metadata": {},
   "outputs": [
    {
     "name": "stdout",
     "output_type": "stream",
     "text": [
      "The r-value is: 0.0711877158756169\n"
     ]
    },
    {
     "data": {
      "image/png": "[encoded data removed]",
      "text/plain": [
       "<Figure size 432x288 with 1 Axes>"
      ]
     },
     "metadata": {
      "needs_background": "light"
     },
     "output_type": "display_data"
    }
   ],
   "source": [
    "x_values = southern_hemi_df['Lat']\n",
    "y_values = southern_hemi_df['Cloudiness']\n",
    "(slope, intercept, rvalue, pvalue, stderr) = linregress(x_values, y_values)\n",
    "regress_values = x_values * slope + intercept\n",
    "line_eq = \"y = \" + str(round(slope,2)) + \"x + \" + str(round(intercept,2))\n",
    "plt.scatter(x_values,y_values)\n",
    "plt.plot(x_values,regress_values,\"r-\")\n",
    "plt.annotate(line_eq,(45,10),fontsize=15,color=\"red\")\n",
    "plt.xlabel('Latitude')\n",
    "plt.ylabel('Cloudiness')\n",
    "print(f\"The r-value is: {rvalue**2}\")\n",
    "\n",
    "plt.show()"
   ]
  },
  {
   "cell_type": "markdown",
   "metadata": {},
   "source": [
    "**Discussion about the linear relationship:** YOUR RESPONSE HERE\n",
    "In the northern hemisphere, there is a cluster between the latitudes of 10 - 40 when the cloudiness is 0 and 20 and a latitude of 40 - 80 when the cloudiness is 95 - 100. Making those points the strongest. A for the south, as the cloudiness and latitude increase, there seems to be a cluster. "
   ]
  },
  {
   "cell_type": "markdown",
   "metadata": {},
   "source": [
    "### Wind Speed vs. Latitude Linear Regression Plot"
   ]
  },
  {
   "cell_type": "code",
   "execution_count": 34,
   "metadata": {},
   "outputs": [],
   "source": [
    "# Northern Hemisphere\n",
    "# YOUR CODE HERE"
   ]
  },
  {
   "cell_type": "code",
   "execution_count": 35,
   "metadata": {},
   "outputs": [
    {
     "name": "stdout",
     "output_type": "stream",
     "text": [
      "The r-value is: 0.0034224590513567132\n"
     ]
    },
    {
     "data": {
      "image/png": "[encoded data removed]",
      "text/plain": [
       "<Figure size 432x288 with 1 Axes>"
      ]
     },
     "metadata": {
      "needs_background": "light"
     },
     "output_type": "display_data"
    }
   ],
   "source": [
    "x_values = northern_hemi_df['Lat']\n",
    "y_values = northern_hemi_df['Wind Speed']\n",
    "(slope, intercept, rvalue, pvalue, stderr) = linregress(x_values, y_values)\n",
    "regress_values = x_values * slope + intercept\n",
    "line_eq = \"y = \" + str(round(slope,2)) + \"x + \" + str(round(intercept,2))\n",
    "plt.scatter(x_values,y_values)\n",
    "plt.plot(x_values,regress_values,\"r-\")\n",
    "plt.annotate(line_eq,(10,40),fontsize=15,color=\"red\")\n",
    "plt.xlabel('Latitude')\n",
    "plt.ylabel('Wind Speed')\n",
    "print(f\"The r-value is: {rvalue**2}\")\n",
    "\n",
    "plt.show()"
   ]
  },
  {
   "cell_type": "code",
   "execution_count": 36,
   "metadata": {},
   "outputs": [],
   "source": [
    "# Southern Hemisphere\n",
    "# YOUR CODE HERE"
   ]
  },
  {
   "cell_type": "code",
   "execution_count": 37,
   "metadata": {},
   "outputs": [
    {
     "name": "stdout",
     "output_type": "stream",
     "text": [
      "The r-value is: 0.15196624609984877\n"
     ]
    },
    {
     "data": {
      "image/png": "[encoded data removed]",
      "text/plain": [
       "<Figure size 432x288 with 1 Axes>"
      ]
     },
     "metadata": {
      "needs_background": "light"
     },
     "output_type": "display_data"
    }
   ],
   "source": [
    "x_values = southern_hemi_df['Lat']\n",
    "y_values = southern_hemi_df['Wind Speed']\n",
    "(slope, intercept, rvalue, pvalue, stderr) = linregress(x_values, y_values)\n",
    "regress_values = x_values * slope + intercept\n",
    "line_eq = \"y = \" + str(round(slope,2)) + \"x + \" + str(round(intercept,2))\n",
    "plt.scatter(x_values,y_values)\n",
    "plt.plot(x_values,regress_values,\"r-\")\n",
    "plt.annotate(line_eq,(45,10),fontsize=15,color=\"red\")\n",
    "plt.xlabel('Latitude')\n",
    "plt.ylabel('Wind Speed')\n",
    "print(f\"The r-value is: {rvalue**2}\")\n",
    "\n",
    "plt.show()"
   ]
  },
  {
   "cell_type": "markdown",
   "metadata": {},
   "source": [
    "**Discussion about the linear relationship:** YOUR RESPONSE HERE\n",
    "In the north, it tends to be evenly distributed with some outliners that are passed the cluster. With the south, as we move away from the latitude, so does the wind speed. "
   ]
  },
  {
   "cell_type": "code",
   "execution_count": null,
   "metadata": {},
   "outputs": [],
   "source": []
  }
 ],
 "metadata": {
  "anaconda-cloud": {},
  "kernel_info": {
   "name": "python3"
  },
  "kernelspec": {
   "display_name": "Python 3 (ipykernel)",
   "language": "python",
   "name": "python3"
  },
  "language_info": {
   "codemirror_mode": {
    "name": "ipython",
    "version": 3
   },
   "file_extension": ".py",
   "mimetype": "text/x-python",
   "name": "python",
   "nbconvert_exporter": "python",
   "pygments_lexer": "ipython3",
   "version": "3.7.7"
  },
  "latex_envs": {
   "LaTeX_envs_menu_present": true,
   "autoclose": false,
   "autocomplete": true,
   "bibliofile": "biblio.bib",
   "cite_by": "apalike",
   "current_citInitial": 1,
   "eqLabelWithNumbers": true,
   "eqNumInitial": 1,
   "hotkeys": {
    "equation": "Ctrl-E",
    "itemize": "Ctrl-I"
   },
   "labels_anchors": false,
   "latex_user_defs": false,
   "report_style_numbering": false,
   "user_envs_cfg": false
  },
  "nteract": {
   "version": "0.12.3"
  }
 },
 "nbformat": 4,
 "nbformat_minor": 4
}
